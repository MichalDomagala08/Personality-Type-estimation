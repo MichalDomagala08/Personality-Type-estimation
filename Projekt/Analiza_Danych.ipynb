{
 "cells": [
  {
   "cell_type": "markdown",
   "metadata": {},
   "source": [
    "### Dodatkowe kody"
   ]
  },
  {
   "cell_type": "markdown",
   "metadata": {},
   "source": [
    "Heatmapa:"
   ]
  },
  {
   "cell_type": "code",
   "execution_count": 48,
   "metadata": {},
   "outputs": [],
   "source": [
    "def heatmap(values, xlabel, ylabel, xticklabels, yticklabels, cmap=None,\n",
    "            vmin=None, vmax=None, ax=None, fmt=\"%0.2f\"):\n",
    "    if ax is None:\n",
    "        ax = plt.gca()\n",
    "    # plot the mean cross-validation scores\n",
    "    img = ax.pcolor(values, cmap=cmap, vmin=vmin, vmax=vmax)\n",
    "    img.update_scalarmappable()\n",
    "    ax.set_xlabel(xlabel)\n",
    "    ax.set_ylabel(ylabel)\n",
    "    ax.set_xticks(np.arange(len(xticklabels)) + .5)\n",
    "    ax.set_yticks(np.arange(len(yticklabels)) + .5)\n",
    "    ax.set_xticklabels(xticklabels)\n",
    "    ax.set_yticklabels(yticklabels)\n",
    "    ax.set_aspect(1)\n",
    "\n",
    "    for p, color, value in zip(img.get_paths(), img.get_facecolors(),\n",
    "                               img.get_array()):\n",
    "        x, y = p.vertices[:-2, :].mean(0)\n",
    "        if np.mean(color[:3]) > 0.5:\n",
    "            c = 'k'\n",
    "        else:\n",
    "            c = 'w'\n",
    "        ax.text(x, y, fmt % value, color=c, ha=\"center\", va=\"center\")\n",
    "    return img\n"
   ]
  },
  {
   "cell_type": "markdown",
   "metadata": {},
   "source": [
    "Biblioteki (failsafe):"
   ]
  },
  {
   "cell_type": "code",
   "execution_count": 49,
   "metadata": {},
   "outputs": [],
   "source": [
    "#Narzędzia:\n",
    "\n",
    "import pandas as pd\n",
    "import numpy as np\n",
    "import seaborn as sns\n",
    "import matplotlib.pyplot as plt\n",
    "from matplotlib import cm\n",
    "\n",
    "#Klasyfikatory + Ewaluacja\n",
    "\n",
    "from sklearn.svm import SVC\n",
    "from sklearn.linear_model import LogisticRegression\n",
    "from sklearn.ensemble import VotingClassifier\n",
    "from sklearn.ensemble import ExtraTreesClassifier\n",
    "from sklearn import metrics\n",
    "\n",
    "#Preprocessing:\n",
    "\n",
    "from imblearn.under_sampling import NearMiss\n",
    "from imblearn.over_sampling import SMOTE\n",
    "from bs4 import BeautifulSoup\n",
    "from sklearn.decomposition import TruncatedSVD\n",
    "from sklearn.feature_extraction.text import TfidfVectorizer, CountVectorizer\n",
    "\n",
    "#Selekcja Cech:\n",
    "\n",
    "from sklearn.feature_selection import SelectKBest\n",
    "from sklearn.feature_selection import f_classif\n",
    "from sklearn.feature_selection import chi2\n",
    "\n",
    "#Dodatkowa Wizualizacja:\n",
    "\n",
    "from sklearn.feature_extraction.text import CountVectorizer\n",
    "from yellowbrick.text import FreqDistVisualizer"
   ]
  },
  {
   "cell_type": "markdown",
   "metadata": {},
   "source": [
    "# Określanie Osobowości z tekstu"
   ]
  },
  {
   "cell_type": "markdown",
   "metadata": {},
   "source": [
    "    Skala MBTI to skala osobowości rozwinieta przez Myersa-Briggsa w celu oepracjonalizacji klasycznych cech osobowości\n",
    "    by były one bardziej deskryptywne i umożliwiały predykcję zachowań. Skala MBTI opiera się na 4 wymiarach binarnych:\n",
    "    \n",
    "        Introwersja (I)- Ekstrawersja (E):\n",
    "        \n",
    "            preferencje co do skupiania sie na świecie Wewnętrznym i Zewnętrznym\n",
    "            \n",
    "        Intuition (N) - Sensing (S):\n",
    "        \n",
    "           Zwracanie uwagi na znaczenie, interpetację, szukanie dodatkowych wyjaśnień vs. \n",
    "           Skupianie się na podstawowych informacjach ostarczonych przez zmysły i przydatnych dla mnie\n",
    "            \n",
    "        Thinking (T) - Feeling (F):\n",
    "        \n",
    "            Podejmowanie Decyzji za pomocą głebokiej Analizy, rozumowania, wiedzy oraz logiki vs.\n",
    "            podejmowanie decyzji za pomocą własnych intuicji\n",
    "            \n",
    "        Judging (J) - Perceiving (P):\n",
    "        \n",
    "            W kontaktach ze światem zewnetrznym szybkie i skuteczne podejmowanie decyzji vs.\n",
    "            otwarcie na nowe doświadczenia i luźny stosunek do pracy\n",
    "            \n",
    "        Każdy z tych wymiarów może byc traktowany niezaleznie i nieemergentnie prowadzi do 16 Typów osobowości MBTI.\n",
    "        \n",
    "        ['ENFJ', 'ENFP', 'ENTJ', 'ENTP', 'ESFJ', 'ESFP', 'ESTJ', 'ESTP',\n",
    "       'INFJ', 'INFP', 'INTJ', 'INTP', 'ISFJ', 'ISFP', 'ISTJ', 'ISTP']\n",
    "       \n",
    "       Kazdy z tych typów ma swoje własności, ale są one do przewidzenia na podstawie wartosci indywidualnych wymiarów\n",
    "       \n",
    "        "
   ]
  },
  {
   "cell_type": "markdown",
   "metadata": {},
   "source": [
    "### Wczytanie danych, Ekstrakcja Cech oraz Wizualizacja"
   ]
  },
  {
   "cell_type": "markdown",
   "metadata": {},
   "source": [
    "**Proszę pamiętać, że ścieżka nie jest doprecyzowana i wymaga przeniesienia pliku mbti_1.csv z repozytorium do niechronionej lokalizacji**"
   ]
  },
  {
   "cell_type": "code",
   "execution_count": 62,
   "metadata": {},
   "outputs": [
    {
     "data": {
      "text/html": [
       "<div>\n",
       "<style scoped>\n",
       "    .dataframe tbody tr th:only-of-type {\n",
       "        vertical-align: middle;\n",
       "    }\n",
       "\n",
       "    .dataframe tbody tr th {\n",
       "        vertical-align: top;\n",
       "    }\n",
       "\n",
       "    .dataframe thead th {\n",
       "        text-align: right;\n",
       "    }\n",
       "</style>\n",
       "<table border=\"1\" class=\"dataframe\">\n",
       "  <thead>\n",
       "    <tr style=\"text-align: right;\">\n",
       "      <th></th>\n",
       "      <th>type</th>\n",
       "      <th>posts</th>\n",
       "    </tr>\n",
       "  </thead>\n",
       "  <tbody>\n",
       "    <tr>\n",
       "      <th>0</th>\n",
       "      <td>INFJ</td>\n",
       "      <td>'http://www.youtube.com/watch?v=qsXHcwe3krw|||...</td>\n",
       "    </tr>\n",
       "    <tr>\n",
       "      <th>1</th>\n",
       "      <td>ENTP</td>\n",
       "      <td>'I'm finding the lack of me in these posts ver...</td>\n",
       "    </tr>\n",
       "    <tr>\n",
       "      <th>2</th>\n",
       "      <td>INTP</td>\n",
       "      <td>'Good one  _____   https://www.youtube.com/wat...</td>\n",
       "    </tr>\n",
       "    <tr>\n",
       "      <th>3</th>\n",
       "      <td>INTJ</td>\n",
       "      <td>'Dear INTP,   I enjoyed our conversation the o...</td>\n",
       "    </tr>\n",
       "    <tr>\n",
       "      <th>4</th>\n",
       "      <td>ENTJ</td>\n",
       "      <td>'You're fired.|||That's another silly misconce...</td>\n",
       "    </tr>\n",
       "    <tr>\n",
       "      <th>...</th>\n",
       "      <td>...</td>\n",
       "      <td>...</td>\n",
       "    </tr>\n",
       "    <tr>\n",
       "      <th>8670</th>\n",
       "      <td>ISFP</td>\n",
       "      <td>'https://www.youtube.com/watch?v=t8edHB_h908||...</td>\n",
       "    </tr>\n",
       "    <tr>\n",
       "      <th>8671</th>\n",
       "      <td>ENFP</td>\n",
       "      <td>'So...if this thread already exists someplace ...</td>\n",
       "    </tr>\n",
       "    <tr>\n",
       "      <th>8672</th>\n",
       "      <td>INTP</td>\n",
       "      <td>'So many questions when i do these things.  I ...</td>\n",
       "    </tr>\n",
       "    <tr>\n",
       "      <th>8673</th>\n",
       "      <td>INFP</td>\n",
       "      <td>'I am very conflicted right now when it comes ...</td>\n",
       "    </tr>\n",
       "    <tr>\n",
       "      <th>8674</th>\n",
       "      <td>INFP</td>\n",
       "      <td>'It has been too long since I have been on per...</td>\n",
       "    </tr>\n",
       "  </tbody>\n",
       "</table>\n",
       "<p>8675 rows × 2 columns</p>\n",
       "</div>"
      ],
      "text/plain": [
       "      type                                              posts\n",
       "0     INFJ  'http://www.youtube.com/watch?v=qsXHcwe3krw|||...\n",
       "1     ENTP  'I'm finding the lack of me in these posts ver...\n",
       "2     INTP  'Good one  _____   https://www.youtube.com/wat...\n",
       "3     INTJ  'Dear INTP,   I enjoyed our conversation the o...\n",
       "4     ENTJ  'You're fired.|||That's another silly misconce...\n",
       "...    ...                                                ...\n",
       "8670  ISFP  'https://www.youtube.com/watch?v=t8edHB_h908||...\n",
       "8671  ENFP  'So...if this thread already exists someplace ...\n",
       "8672  INTP  'So many questions when i do these things.  I ...\n",
       "8673  INFP  'I am very conflicted right now when it comes ...\n",
       "8674  INFP  'It has been too long since I have been on per...\n",
       "\n",
       "[8675 rows x 2 columns]"
      ]
     },
     "execution_count": 62,
     "metadata": {},
     "output_type": "execute_result"
    }
   ],
   "source": [
    "import pandas as pd\n",
    "import numpy as np\n",
    "import seaborn as sns\n",
    "import matplotlib.pyplot as plt\n",
    "\n",
    "#PROSZĘ DOPRECYZOWAĆ ŚCIEŻKĘ!!! jako tą w której umieszczono plik!\n",
    "#preferowanie downloads. Proszę doprecyzować użytkownika\n",
    "\n",
    "df = pd.read_csv(r\"C:\\Users\\Michał\\Downloads\\mbti_1.csv\",sep = \",\", engine = \"python\")\n",
    "df\n"
   ]
  },
  {
   "cell_type": "markdown",
   "metadata": {},
   "source": [
    "Wizualizacja udziału klas: Podejrzenie znaczącego efektu niebalansowania"
   ]
  },
  {
   "cell_type": "code",
   "execution_count": 63,
   "metadata": {},
   "outputs": [
    {
     "data": {
      "image/png": "[encoded data removed]",
      "text/plain": [
       "<Figure size 864x288 with 1 Axes>"
      ]
     },
     "metadata": {},
     "output_type": "display_data"
    },
    {
     "data": {
      "image/png": "[encoded data removed]",
      "text/plain": [
       "<Figure size 864x288 with 1 Axes>"
      ]
     },
     "metadata": {},
     "output_type": "display_data"
    }
   ],
   "source": [
    "\n",
    "#Wizualizacja udziału Klas\n",
    "\n",
    "from matplotlib import cm\n",
    "\n",
    "cnt_srs = df['type'].value_counts()\n",
    "viridis = cm.get_cmap('plasma', 12)\n",
    "colors = viridis(np.flip(np.linspace(0, 1, 16)))\n",
    "plt.figure(figsize=(12,4))\n",
    "sns.barplot(cnt_srs.index, cnt_srs.values, alpha=0.8,palette=colors)\n",
    "plt.ylabel('Number of Occurrences', fontsize=12)\n",
    "plt.xlabel('Types', fontsize=12)\n",
    "plt.show()\n",
    "\n",
    "#Wizualizacja udziału Klas w Społeczeństwie\n",
    "\n",
    "from matplotlib import cm\n",
    "Procentowy = [len(df)*0.044,len(df)*0.015,len(df)*0.033,len(df)*0.021,len(df)*0.032,len(df)*0.081,len(df)*0.054,len(df)*0.088,len(df)*0.018,len(df)*0.116,len(df)*0.025,len(df)*0.138,len(df)*0.043,len(df)*0.085,len(df)*0.123,len(df)*0.087]\n",
    "cnt_srs = df['type'].value_counts()\n",
    "viridis = cm.get_cmap('plasma', 12)\n",
    "colors = viridis(np.flip(np.linspace(0, 1, 16)))\n",
    "plt.figure(figsize=(12,4))\n",
    "sns.barplot(cnt_srs.index, Procentowy, alpha=0.8,palette=colors)\n",
    "plt.ylabel('Number of Occurrences', fontsize=12)\n",
    "plt.xlabel('Types', fontsize=12)\n",
    "plt.show()"
   ]
  },
  {
   "cell_type": "markdown",
   "metadata": {},
   "source": [
    "Nasze dane **nie**  odpowiadają rozkładowi w społeczeństwie"
   ]
  },
  {
   "cell_type": "markdown",
   "metadata": {},
   "source": [
    "     Z powodu antagonizacji wymiarów binarnych, możemy sie spodziewać, ze coś co może róznicować osoby o różnych Cechach to ilość użytcych słów. Następnym takim czynnikiem może być również ilosć użytych linków (chęć dzielenia sie informacją), mówienie o abstrakcji i personalnych doświadczeniach (muzyka), niepewnosć (np. poprzez ilosć wielokropków), oraz udostępniane obrazki.\n",
    "     \n",
    "     Taką cechą może być również mówienie o sobie (użycie 'I')"
   ]
  },
  {
   "cell_type": "markdown",
   "metadata": {},
   "source": [
    "Z naszych postów ekstraktujemy wybrane Cechy: ilosc słow na osobę, ilość wielokropków, ilośc linków, ilość muzyki, ilość jpgów, ilość użycia 'I'"
   ]
  },
  {
   "cell_type": "code",
   "execution_count": 64,
   "metadata": {},
   "outputs": [],
   "source": [
    "def words_per_post():\n",
    "\n",
    "    df['words_per_post'] = 0\n",
    "    for i in range(len(df.index)):\n",
    "        df['words_per_post'].loc[i] = len(df[\"posts\"].loc[i].split())/50\n",
    "        #print(len(df[\"posts\"].loc[i].split())/50)\n",
    "\n",
    "def Average_frase_per_person(frase):\n",
    "    df[\"{} per Post\".format(frase)] = 0\n",
    "    for i in range(len(df.index)):\n",
    "        df[\"{} per Post\".format(frase)].loc[i]  = df[\"posts\"].loc[i].count(frase)/50\n",
    "   \n",
    "    \n",
    "    \n"
   ]
  },
  {
   "cell_type": "markdown",
   "metadata": {},
   "source": [
    "#### Ekstrakcja"
   ]
  },
  {
   "cell_type": "code",
   "execution_count": 65,
   "metadata": {},
   "outputs": [
    {
     "name": "stderr",
     "output_type": "stream",
     "text": [
      "C:\\Program Files (x86)\\Anaconda\\lib\\site-packages\\pandas\\core\\indexing.py:205: SettingWithCopyWarning: \n",
      "A value is trying to be set on a copy of a slice from a DataFrame\n",
      "\n",
      "See the caveats in the documentation: http://pandas.pydata.org/pandas-docs/stable/user_guide/indexing.html#returning-a-view-versus-a-copy\n",
      "  self._setitem_with_indexer(indexer, value)\n"
     ]
    },
    {
     "data": {
      "text/html": [
       "<div>\n",
       "<style scoped>\n",
       "    .dataframe tbody tr th:only-of-type {\n",
       "        vertical-align: middle;\n",
       "    }\n",
       "\n",
       "    .dataframe tbody tr th {\n",
       "        vertical-align: top;\n",
       "    }\n",
       "\n",
       "    .dataframe thead th {\n",
       "        text-align: right;\n",
       "    }\n",
       "</style>\n",
       "<table border=\"1\" class=\"dataframe\">\n",
       "  <thead>\n",
       "    <tr style=\"text-align: right;\">\n",
       "      <th></th>\n",
       "      <th>type</th>\n",
       "      <th>posts</th>\n",
       "      <th>words_per_post</th>\n",
       "    </tr>\n",
       "  </thead>\n",
       "  <tbody>\n",
       "    <tr>\n",
       "      <th>0</th>\n",
       "      <td>INFJ</td>\n",
       "      <td>'http://www.youtube.com/watch?v=qsXHcwe3krw|||...</td>\n",
       "      <td>11.12</td>\n",
       "    </tr>\n",
       "    <tr>\n",
       "      <th>1</th>\n",
       "      <td>ENTP</td>\n",
       "      <td>'I'm finding the lack of me in these posts ver...</td>\n",
       "      <td>23.40</td>\n",
       "    </tr>\n",
       "    <tr>\n",
       "      <th>2</th>\n",
       "      <td>INTP</td>\n",
       "      <td>'Good one  _____   https://www.youtube.com/wat...</td>\n",
       "      <td>16.72</td>\n",
       "    </tr>\n",
       "    <tr>\n",
       "      <th>3</th>\n",
       "      <td>INTJ</td>\n",
       "      <td>'Dear INTP,   I enjoyed our conversation the o...</td>\n",
       "      <td>21.28</td>\n",
       "    </tr>\n",
       "    <tr>\n",
       "      <th>4</th>\n",
       "      <td>ENTJ</td>\n",
       "      <td>'You're fired.|||That's another silly misconce...</td>\n",
       "      <td>19.34</td>\n",
       "    </tr>\n",
       "    <tr>\n",
       "      <th>...</th>\n",
       "      <td>...</td>\n",
       "      <td>...</td>\n",
       "      <td>...</td>\n",
       "    </tr>\n",
       "    <tr>\n",
       "      <th>8670</th>\n",
       "      <td>ISFP</td>\n",
       "      <td>'https://www.youtube.com/watch?v=t8edHB_h908||...</td>\n",
       "      <td>15.92</td>\n",
       "    </tr>\n",
       "    <tr>\n",
       "      <th>8671</th>\n",
       "      <td>ENFP</td>\n",
       "      <td>'So...if this thread already exists someplace ...</td>\n",
       "      <td>26.18</td>\n",
       "    </tr>\n",
       "    <tr>\n",
       "      <th>8672</th>\n",
       "      <td>INTP</td>\n",
       "      <td>'So many questions when i do these things.  I ...</td>\n",
       "      <td>18.96</td>\n",
       "    </tr>\n",
       "    <tr>\n",
       "      <th>8673</th>\n",
       "      <td>INFP</td>\n",
       "      <td>'I am very conflicted right now when it comes ...</td>\n",
       "      <td>34.10</td>\n",
       "    </tr>\n",
       "    <tr>\n",
       "      <th>8674</th>\n",
       "      <td>INFP</td>\n",
       "      <td>'It has been too long since I have been on per...</td>\n",
       "      <td>27.22</td>\n",
       "    </tr>\n",
       "  </tbody>\n",
       "</table>\n",
       "<p>8675 rows × 3 columns</p>\n",
       "</div>"
      ],
      "text/plain": [
       "      type                                              posts  words_per_post\n",
       "0     INFJ  'http://www.youtube.com/watch?v=qsXHcwe3krw|||...           11.12\n",
       "1     ENTP  'I'm finding the lack of me in these posts ver...           23.40\n",
       "2     INTP  'Good one  _____   https://www.youtube.com/wat...           16.72\n",
       "3     INTJ  'Dear INTP,   I enjoyed our conversation the o...           21.28\n",
       "4     ENTJ  'You're fired.|||That's another silly misconce...           19.34\n",
       "...    ...                                                ...             ...\n",
       "8670  ISFP  'https://www.youtube.com/watch?v=t8edHB_h908||...           15.92\n",
       "8671  ENFP  'So...if this thread already exists someplace ...           26.18\n",
       "8672  INTP  'So many questions when i do these things.  I ...           18.96\n",
       "8673  INFP  'I am very conflicted right now when it comes ...           34.10\n",
       "8674  INFP  'It has been too long since I have been on per...           27.22\n",
       "\n",
       "[8675 rows x 3 columns]"
      ]
     },
     "execution_count": 65,
     "metadata": {},
     "output_type": "execute_result"
    }
   ],
   "source": [
    "#Cecha 1: Ile słów na post używa dana osoba?\n",
    "\n",
    "words_per_post()\n",
    "df"
   ]
  },
  {
   "cell_type": "code",
   "execution_count": 66,
   "metadata": {},
   "outputs": [
    {
     "name": "stderr",
     "output_type": "stream",
     "text": [
      "C:\\Program Files (x86)\\Anaconda\\lib\\site-packages\\pandas\\core\\indexing.py:205: SettingWithCopyWarning: \n",
      "A value is trying to be set on a copy of a slice from a DataFrame\n",
      "\n",
      "See the caveats in the documentation: http://pandas.pydata.org/pandas-docs/stable/user_guide/indexing.html#returning-a-view-versus-a-copy\n",
      "  self._setitem_with_indexer(indexer, value)\n"
     ]
    },
    {
     "data": {
      "text/html": [
       "<div>\n",
       "<style scoped>\n",
       "    .dataframe tbody tr th:only-of-type {\n",
       "        vertical-align: middle;\n",
       "    }\n",
       "\n",
       "    .dataframe tbody tr th {\n",
       "        vertical-align: top;\n",
       "    }\n",
       "\n",
       "    .dataframe thead th {\n",
       "        text-align: right;\n",
       "    }\n",
       "</style>\n",
       "<table border=\"1\" class=\"dataframe\">\n",
       "  <thead>\n",
       "    <tr style=\"text-align: right;\">\n",
       "      <th></th>\n",
       "      <th>type</th>\n",
       "      <th>posts</th>\n",
       "      <th>words_per_post</th>\n",
       "      <th>... per Post</th>\n",
       "    </tr>\n",
       "  </thead>\n",
       "  <tbody>\n",
       "    <tr>\n",
       "      <th>0</th>\n",
       "      <td>INFJ</td>\n",
       "      <td>'http://www.youtube.com/watch?v=qsXHcwe3krw|||...</td>\n",
       "      <td>11.12</td>\n",
       "      <td>0.30</td>\n",
       "    </tr>\n",
       "    <tr>\n",
       "      <th>1</th>\n",
       "      <td>ENTP</td>\n",
       "      <td>'I'm finding the lack of me in these posts ver...</td>\n",
       "      <td>23.40</td>\n",
       "      <td>0.38</td>\n",
       "    </tr>\n",
       "    <tr>\n",
       "      <th>2</th>\n",
       "      <td>INTP</td>\n",
       "      <td>'Good one  _____   https://www.youtube.com/wat...</td>\n",
       "      <td>16.72</td>\n",
       "      <td>0.26</td>\n",
       "    </tr>\n",
       "    <tr>\n",
       "      <th>3</th>\n",
       "      <td>INTJ</td>\n",
       "      <td>'Dear INTP,   I enjoyed our conversation the o...</td>\n",
       "      <td>21.28</td>\n",
       "      <td>0.52</td>\n",
       "    </tr>\n",
       "    <tr>\n",
       "      <th>4</th>\n",
       "      <td>ENTJ</td>\n",
       "      <td>'You're fired.|||That's another silly misconce...</td>\n",
       "      <td>19.34</td>\n",
       "      <td>0.42</td>\n",
       "    </tr>\n",
       "    <tr>\n",
       "      <th>...</th>\n",
       "      <td>...</td>\n",
       "      <td>...</td>\n",
       "      <td>...</td>\n",
       "      <td>...</td>\n",
       "    </tr>\n",
       "    <tr>\n",
       "      <th>8670</th>\n",
       "      <td>ISFP</td>\n",
       "      <td>'https://www.youtube.com/watch?v=t8edHB_h908||...</td>\n",
       "      <td>15.92</td>\n",
       "      <td>0.14</td>\n",
       "    </tr>\n",
       "    <tr>\n",
       "      <th>8671</th>\n",
       "      <td>ENFP</td>\n",
       "      <td>'So...if this thread already exists someplace ...</td>\n",
       "      <td>26.18</td>\n",
       "      <td>0.82</td>\n",
       "    </tr>\n",
       "    <tr>\n",
       "      <th>8672</th>\n",
       "      <td>INTP</td>\n",
       "      <td>'So many questions when i do these things.  I ...</td>\n",
       "      <td>18.96</td>\n",
       "      <td>0.38</td>\n",
       "    </tr>\n",
       "    <tr>\n",
       "      <th>8673</th>\n",
       "      <td>INFP</td>\n",
       "      <td>'I am very conflicted right now when it comes ...</td>\n",
       "      <td>34.10</td>\n",
       "      <td>0.94</td>\n",
       "    </tr>\n",
       "    <tr>\n",
       "      <th>8674</th>\n",
       "      <td>INFP</td>\n",
       "      <td>'It has been too long since I have been on per...</td>\n",
       "      <td>27.22</td>\n",
       "      <td>0.48</td>\n",
       "    </tr>\n",
       "  </tbody>\n",
       "</table>\n",
       "<p>8675 rows × 4 columns</p>\n",
       "</div>"
      ],
      "text/plain": [
       "      type                                              posts  words_per_post  \\\n",
       "0     INFJ  'http://www.youtube.com/watch?v=qsXHcwe3krw|||...           11.12   \n",
       "1     ENTP  'I'm finding the lack of me in these posts ver...           23.40   \n",
       "2     INTP  'Good one  _____   https://www.youtube.com/wat...           16.72   \n",
       "3     INTJ  'Dear INTP,   I enjoyed our conversation the o...           21.28   \n",
       "4     ENTJ  'You're fired.|||That's another silly misconce...           19.34   \n",
       "...    ...                                                ...             ...   \n",
       "8670  ISFP  'https://www.youtube.com/watch?v=t8edHB_h908||...           15.92   \n",
       "8671  ENFP  'So...if this thread already exists someplace ...           26.18   \n",
       "8672  INTP  'So many questions when i do these things.  I ...           18.96   \n",
       "8673  INFP  'I am very conflicted right now when it comes ...           34.10   \n",
       "8674  INFP  'It has been too long since I have been on per...           27.22   \n",
       "\n",
       "      ... per Post  \n",
       "0             0.30  \n",
       "1             0.38  \n",
       "2             0.26  \n",
       "3             0.52  \n",
       "4             0.42  \n",
       "...            ...  \n",
       "8670          0.14  \n",
       "8671          0.82  \n",
       "8672          0.38  \n",
       "8673          0.94  \n",
       "8674          0.48  \n",
       "\n",
       "[8675 rows x 4 columns]"
      ]
     },
     "execution_count": 66,
     "metadata": {},
     "output_type": "execute_result"
    }
   ],
   "source": [
    "#Cecha 2: Ile średnio wielokropków na post używa dana osoba?\n",
    "\n",
    "Average_frase_per_person('...')\n",
    "df"
   ]
  },
  {
   "cell_type": "code",
   "execution_count": 67,
   "metadata": {},
   "outputs": [
    {
     "name": "stderr",
     "output_type": "stream",
     "text": [
      "C:\\Program Files (x86)\\Anaconda\\lib\\site-packages\\pandas\\core\\indexing.py:205: SettingWithCopyWarning: \n",
      "A value is trying to be set on a copy of a slice from a DataFrame\n",
      "\n",
      "See the caveats in the documentation: http://pandas.pydata.org/pandas-docs/stable/user_guide/indexing.html#returning-a-view-versus-a-copy\n",
      "  self._setitem_with_indexer(indexer, value)\n"
     ]
    },
    {
     "data": {
      "text/html": [
       "<div>\n",
       "<style scoped>\n",
       "    .dataframe tbody tr th:only-of-type {\n",
       "        vertical-align: middle;\n",
       "    }\n",
       "\n",
       "    .dataframe tbody tr th {\n",
       "        vertical-align: top;\n",
       "    }\n",
       "\n",
       "    .dataframe thead th {\n",
       "        text-align: right;\n",
       "    }\n",
       "</style>\n",
       "<table border=\"1\" class=\"dataframe\">\n",
       "  <thead>\n",
       "    <tr style=\"text-align: right;\">\n",
       "      <th></th>\n",
       "      <th>type</th>\n",
       "      <th>posts</th>\n",
       "      <th>words_per_post</th>\n",
       "      <th>... per Post</th>\n",
       "      <th>http per Post</th>\n",
       "    </tr>\n",
       "  </thead>\n",
       "  <tbody>\n",
       "    <tr>\n",
       "      <th>0</th>\n",
       "      <td>INFJ</td>\n",
       "      <td>'http://www.youtube.com/watch?v=qsXHcwe3krw|||...</td>\n",
       "      <td>11.12</td>\n",
       "      <td>0.30</td>\n",
       "      <td>0.48</td>\n",
       "    </tr>\n",
       "    <tr>\n",
       "      <th>1</th>\n",
       "      <td>ENTP</td>\n",
       "      <td>'I'm finding the lack of me in these posts ver...</td>\n",
       "      <td>23.40</td>\n",
       "      <td>0.38</td>\n",
       "      <td>0.20</td>\n",
       "    </tr>\n",
       "    <tr>\n",
       "      <th>2</th>\n",
       "      <td>INTP</td>\n",
       "      <td>'Good one  _____   https://www.youtube.com/wat...</td>\n",
       "      <td>16.72</td>\n",
       "      <td>0.26</td>\n",
       "      <td>0.10</td>\n",
       "    </tr>\n",
       "    <tr>\n",
       "      <th>3</th>\n",
       "      <td>INTJ</td>\n",
       "      <td>'Dear INTP,   I enjoyed our conversation the o...</td>\n",
       "      <td>21.28</td>\n",
       "      <td>0.52</td>\n",
       "      <td>0.04</td>\n",
       "    </tr>\n",
       "    <tr>\n",
       "      <th>4</th>\n",
       "      <td>ENTJ</td>\n",
       "      <td>'You're fired.|||That's another silly misconce...</td>\n",
       "      <td>19.34</td>\n",
       "      <td>0.42</td>\n",
       "      <td>0.12</td>\n",
       "    </tr>\n",
       "    <tr>\n",
       "      <th>...</th>\n",
       "      <td>...</td>\n",
       "      <td>...</td>\n",
       "      <td>...</td>\n",
       "      <td>...</td>\n",
       "      <td>...</td>\n",
       "    </tr>\n",
       "    <tr>\n",
       "      <th>8670</th>\n",
       "      <td>ISFP</td>\n",
       "      <td>'https://www.youtube.com/watch?v=t8edHB_h908||...</td>\n",
       "      <td>15.92</td>\n",
       "      <td>0.14</td>\n",
       "      <td>0.14</td>\n",
       "    </tr>\n",
       "    <tr>\n",
       "      <th>8671</th>\n",
       "      <td>ENFP</td>\n",
       "      <td>'So...if this thread already exists someplace ...</td>\n",
       "      <td>26.18</td>\n",
       "      <td>0.82</td>\n",
       "      <td>0.04</td>\n",
       "    </tr>\n",
       "    <tr>\n",
       "      <th>8672</th>\n",
       "      <td>INTP</td>\n",
       "      <td>'So many questions when i do these things.  I ...</td>\n",
       "      <td>18.96</td>\n",
       "      <td>0.38</td>\n",
       "      <td>0.04</td>\n",
       "    </tr>\n",
       "    <tr>\n",
       "      <th>8673</th>\n",
       "      <td>INFP</td>\n",
       "      <td>'I am very conflicted right now when it comes ...</td>\n",
       "      <td>34.10</td>\n",
       "      <td>0.94</td>\n",
       "      <td>0.00</td>\n",
       "    </tr>\n",
       "    <tr>\n",
       "      <th>8674</th>\n",
       "      <td>INFP</td>\n",
       "      <td>'It has been too long since I have been on per...</td>\n",
       "      <td>27.22</td>\n",
       "      <td>0.48</td>\n",
       "      <td>0.06</td>\n",
       "    </tr>\n",
       "  </tbody>\n",
       "</table>\n",
       "<p>8675 rows × 5 columns</p>\n",
       "</div>"
      ],
      "text/plain": [
       "      type                                              posts  words_per_post  \\\n",
       "0     INFJ  'http://www.youtube.com/watch?v=qsXHcwe3krw|||...           11.12   \n",
       "1     ENTP  'I'm finding the lack of me in these posts ver...           23.40   \n",
       "2     INTP  'Good one  _____   https://www.youtube.com/wat...           16.72   \n",
       "3     INTJ  'Dear INTP,   I enjoyed our conversation the o...           21.28   \n",
       "4     ENTJ  'You're fired.|||That's another silly misconce...           19.34   \n",
       "...    ...                                                ...             ...   \n",
       "8670  ISFP  'https://www.youtube.com/watch?v=t8edHB_h908||...           15.92   \n",
       "8671  ENFP  'So...if this thread already exists someplace ...           26.18   \n",
       "8672  INTP  'So many questions when i do these things.  I ...           18.96   \n",
       "8673  INFP  'I am very conflicted right now when it comes ...           34.10   \n",
       "8674  INFP  'It has been too long since I have been on per...           27.22   \n",
       "\n",
       "      ... per Post  http per Post  \n",
       "0             0.30           0.48  \n",
       "1             0.38           0.20  \n",
       "2             0.26           0.10  \n",
       "3             0.52           0.04  \n",
       "4             0.42           0.12  \n",
       "...            ...            ...  \n",
       "8670          0.14           0.14  \n",
       "8671          0.82           0.04  \n",
       "8672          0.38           0.04  \n",
       "8673          0.94           0.00  \n",
       "8674          0.48           0.06  \n",
       "\n",
       "[8675 rows x 5 columns]"
      ]
     },
     "execution_count": 67,
     "metadata": {},
     "output_type": "execute_result"
    }
   ],
   "source": [
    "\n",
    "#Cecha 3: Ile średnio linków na post używa dana osoba?\n",
    "Average_frase_per_person('http')\n",
    "df\n"
   ]
  },
  {
   "cell_type": "code",
   "execution_count": 68,
   "metadata": {},
   "outputs": [
    {
     "name": "stderr",
     "output_type": "stream",
     "text": [
      "C:\\Program Files (x86)\\Anaconda\\lib\\site-packages\\pandas\\core\\indexing.py:205: SettingWithCopyWarning: \n",
      "A value is trying to be set on a copy of a slice from a DataFrame\n",
      "\n",
      "See the caveats in the documentation: http://pandas.pydata.org/pandas-docs/stable/user_guide/indexing.html#returning-a-view-versus-a-copy\n",
      "  self._setitem_with_indexer(indexer, value)\n"
     ]
    },
    {
     "data": {
      "text/html": [
       "<div>\n",
       "<style scoped>\n",
       "    .dataframe tbody tr th:only-of-type {\n",
       "        vertical-align: middle;\n",
       "    }\n",
       "\n",
       "    .dataframe tbody tr th {\n",
       "        vertical-align: top;\n",
       "    }\n",
       "\n",
       "    .dataframe thead th {\n",
       "        text-align: right;\n",
       "    }\n",
       "</style>\n",
       "<table border=\"1\" class=\"dataframe\">\n",
       "  <thead>\n",
       "    <tr style=\"text-align: right;\">\n",
       "      <th></th>\n",
       "      <th>type</th>\n",
       "      <th>posts</th>\n",
       "      <th>words_per_post</th>\n",
       "      <th>... per Post</th>\n",
       "      <th>http per Post</th>\n",
       "      <th>music per Post</th>\n",
       "    </tr>\n",
       "  </thead>\n",
       "  <tbody>\n",
       "    <tr>\n",
       "      <th>0</th>\n",
       "      <td>INFJ</td>\n",
       "      <td>'http://www.youtube.com/watch?v=qsXHcwe3krw|||...</td>\n",
       "      <td>11.12</td>\n",
       "      <td>0.30</td>\n",
       "      <td>0.48</td>\n",
       "      <td>0.02</td>\n",
       "    </tr>\n",
       "    <tr>\n",
       "      <th>1</th>\n",
       "      <td>ENTP</td>\n",
       "      <td>'I'm finding the lack of me in these posts ver...</td>\n",
       "      <td>23.40</td>\n",
       "      <td>0.38</td>\n",
       "      <td>0.20</td>\n",
       "      <td>0.00</td>\n",
       "    </tr>\n",
       "    <tr>\n",
       "      <th>2</th>\n",
       "      <td>INTP</td>\n",
       "      <td>'Good one  _____   https://www.youtube.com/wat...</td>\n",
       "      <td>16.72</td>\n",
       "      <td>0.26</td>\n",
       "      <td>0.10</td>\n",
       "      <td>0.00</td>\n",
       "    </tr>\n",
       "    <tr>\n",
       "      <th>3</th>\n",
       "      <td>INTJ</td>\n",
       "      <td>'Dear INTP,   I enjoyed our conversation the o...</td>\n",
       "      <td>21.28</td>\n",
       "      <td>0.52</td>\n",
       "      <td>0.04</td>\n",
       "      <td>0.02</td>\n",
       "    </tr>\n",
       "    <tr>\n",
       "      <th>4</th>\n",
       "      <td>ENTJ</td>\n",
       "      <td>'You're fired.|||That's another silly misconce...</td>\n",
       "      <td>19.34</td>\n",
       "      <td>0.42</td>\n",
       "      <td>0.12</td>\n",
       "      <td>0.02</td>\n",
       "    </tr>\n",
       "    <tr>\n",
       "      <th>...</th>\n",
       "      <td>...</td>\n",
       "      <td>...</td>\n",
       "      <td>...</td>\n",
       "      <td>...</td>\n",
       "      <td>...</td>\n",
       "      <td>...</td>\n",
       "    </tr>\n",
       "    <tr>\n",
       "      <th>8670</th>\n",
       "      <td>ISFP</td>\n",
       "      <td>'https://www.youtube.com/watch?v=t8edHB_h908||...</td>\n",
       "      <td>15.92</td>\n",
       "      <td>0.14</td>\n",
       "      <td>0.14</td>\n",
       "      <td>0.00</td>\n",
       "    </tr>\n",
       "    <tr>\n",
       "      <th>8671</th>\n",
       "      <td>ENFP</td>\n",
       "      <td>'So...if this thread already exists someplace ...</td>\n",
       "      <td>26.18</td>\n",
       "      <td>0.82</td>\n",
       "      <td>0.04</td>\n",
       "      <td>0.00</td>\n",
       "    </tr>\n",
       "    <tr>\n",
       "      <th>8672</th>\n",
       "      <td>INTP</td>\n",
       "      <td>'So many questions when i do these things.  I ...</td>\n",
       "      <td>18.96</td>\n",
       "      <td>0.38</td>\n",
       "      <td>0.04</td>\n",
       "      <td>0.00</td>\n",
       "    </tr>\n",
       "    <tr>\n",
       "      <th>8673</th>\n",
       "      <td>INFP</td>\n",
       "      <td>'I am very conflicted right now when it comes ...</td>\n",
       "      <td>34.10</td>\n",
       "      <td>0.94</td>\n",
       "      <td>0.00</td>\n",
       "      <td>0.00</td>\n",
       "    </tr>\n",
       "    <tr>\n",
       "      <th>8674</th>\n",
       "      <td>INFP</td>\n",
       "      <td>'It has been too long since I have been on per...</td>\n",
       "      <td>27.22</td>\n",
       "      <td>0.48</td>\n",
       "      <td>0.06</td>\n",
       "      <td>0.00</td>\n",
       "    </tr>\n",
       "  </tbody>\n",
       "</table>\n",
       "<p>8675 rows × 6 columns</p>\n",
       "</div>"
      ],
      "text/plain": [
       "      type                                              posts  words_per_post  \\\n",
       "0     INFJ  'http://www.youtube.com/watch?v=qsXHcwe3krw|||...           11.12   \n",
       "1     ENTP  'I'm finding the lack of me in these posts ver...           23.40   \n",
       "2     INTP  'Good one  _____   https://www.youtube.com/wat...           16.72   \n",
       "3     INTJ  'Dear INTP,   I enjoyed our conversation the o...           21.28   \n",
       "4     ENTJ  'You're fired.|||That's another silly misconce...           19.34   \n",
       "...    ...                                                ...             ...   \n",
       "8670  ISFP  'https://www.youtube.com/watch?v=t8edHB_h908||...           15.92   \n",
       "8671  ENFP  'So...if this thread already exists someplace ...           26.18   \n",
       "8672  INTP  'So many questions when i do these things.  I ...           18.96   \n",
       "8673  INFP  'I am very conflicted right now when it comes ...           34.10   \n",
       "8674  INFP  'It has been too long since I have been on per...           27.22   \n",
       "\n",
       "      ... per Post  http per Post  music per Post  \n",
       "0             0.30           0.48            0.02  \n",
       "1             0.38           0.20            0.00  \n",
       "2             0.26           0.10            0.00  \n",
       "3             0.52           0.04            0.02  \n",
       "4             0.42           0.12            0.02  \n",
       "...            ...            ...             ...  \n",
       "8670          0.14           0.14            0.00  \n",
       "8671          0.82           0.04            0.00  \n",
       "8672          0.38           0.04            0.00  \n",
       "8673          0.94           0.00            0.00  \n",
       "8674          0.48           0.06            0.00  \n",
       "\n",
       "[8675 rows x 6 columns]"
      ]
     },
     "execution_count": 68,
     "metadata": {},
     "output_type": "execute_result"
    }
   ],
   "source": [
    "#Cecha 4: Ile średnio frazy 'Muzyka' na post używa dana osoba?\n",
    "\n",
    "Average_frase_per_person('music')\n",
    "df"
   ]
  },
  {
   "cell_type": "code",
   "execution_count": 69,
   "metadata": {},
   "outputs": [
    {
     "name": "stderr",
     "output_type": "stream",
     "text": [
      "C:\\Program Files (x86)\\Anaconda\\lib\\site-packages\\pandas\\core\\indexing.py:205: SettingWithCopyWarning: \n",
      "A value is trying to be set on a copy of a slice from a DataFrame\n",
      "\n",
      "See the caveats in the documentation: http://pandas.pydata.org/pandas-docs/stable/user_guide/indexing.html#returning-a-view-versus-a-copy\n",
      "  self._setitem_with_indexer(indexer, value)\n"
     ]
    },
    {
     "data": {
      "text/html": [
       "<div>\n",
       "<style scoped>\n",
       "    .dataframe tbody tr th:only-of-type {\n",
       "        vertical-align: middle;\n",
       "    }\n",
       "\n",
       "    .dataframe tbody tr th {\n",
       "        vertical-align: top;\n",
       "    }\n",
       "\n",
       "    .dataframe thead th {\n",
       "        text-align: right;\n",
       "    }\n",
       "</style>\n",
       "<table border=\"1\" class=\"dataframe\">\n",
       "  <thead>\n",
       "    <tr style=\"text-align: right;\">\n",
       "      <th></th>\n",
       "      <th>type</th>\n",
       "      <th>posts</th>\n",
       "      <th>words_per_post</th>\n",
       "      <th>... per Post</th>\n",
       "      <th>http per Post</th>\n",
       "      <th>music per Post</th>\n",
       "      <th>jpg per Post</th>\n",
       "    </tr>\n",
       "  </thead>\n",
       "  <tbody>\n",
       "    <tr>\n",
       "      <th>0</th>\n",
       "      <td>INFJ</td>\n",
       "      <td>'http://www.youtube.com/watch?v=qsXHcwe3krw|||...</td>\n",
       "      <td>11.12</td>\n",
       "      <td>0.30</td>\n",
       "      <td>0.48</td>\n",
       "      <td>0.02</td>\n",
       "      <td>0.12</td>\n",
       "    </tr>\n",
       "    <tr>\n",
       "      <th>1</th>\n",
       "      <td>ENTP</td>\n",
       "      <td>'I'm finding the lack of me in these posts ver...</td>\n",
       "      <td>23.40</td>\n",
       "      <td>0.38</td>\n",
       "      <td>0.20</td>\n",
       "      <td>0.00</td>\n",
       "      <td>0.02</td>\n",
       "    </tr>\n",
       "    <tr>\n",
       "      <th>2</th>\n",
       "      <td>INTP</td>\n",
       "      <td>'Good one  _____   https://www.youtube.com/wat...</td>\n",
       "      <td>16.72</td>\n",
       "      <td>0.26</td>\n",
       "      <td>0.10</td>\n",
       "      <td>0.00</td>\n",
       "      <td>0.00</td>\n",
       "    </tr>\n",
       "    <tr>\n",
       "      <th>3</th>\n",
       "      <td>INTJ</td>\n",
       "      <td>'Dear INTP,   I enjoyed our conversation the o...</td>\n",
       "      <td>21.28</td>\n",
       "      <td>0.52</td>\n",
       "      <td>0.04</td>\n",
       "      <td>0.02</td>\n",
       "      <td>0.00</td>\n",
       "    </tr>\n",
       "    <tr>\n",
       "      <th>4</th>\n",
       "      <td>ENTJ</td>\n",
       "      <td>'You're fired.|||That's another silly misconce...</td>\n",
       "      <td>19.34</td>\n",
       "      <td>0.42</td>\n",
       "      <td>0.12</td>\n",
       "      <td>0.02</td>\n",
       "      <td>0.04</td>\n",
       "    </tr>\n",
       "    <tr>\n",
       "      <th>...</th>\n",
       "      <td>...</td>\n",
       "      <td>...</td>\n",
       "      <td>...</td>\n",
       "      <td>...</td>\n",
       "      <td>...</td>\n",
       "      <td>...</td>\n",
       "      <td>...</td>\n",
       "    </tr>\n",
       "    <tr>\n",
       "      <th>8670</th>\n",
       "      <td>ISFP</td>\n",
       "      <td>'https://www.youtube.com/watch?v=t8edHB_h908||...</td>\n",
       "      <td>15.92</td>\n",
       "      <td>0.14</td>\n",
       "      <td>0.14</td>\n",
       "      <td>0.00</td>\n",
       "      <td>0.02</td>\n",
       "    </tr>\n",
       "    <tr>\n",
       "      <th>8671</th>\n",
       "      <td>ENFP</td>\n",
       "      <td>'So...if this thread already exists someplace ...</td>\n",
       "      <td>26.18</td>\n",
       "      <td>0.82</td>\n",
       "      <td>0.04</td>\n",
       "      <td>0.00</td>\n",
       "      <td>0.00</td>\n",
       "    </tr>\n",
       "    <tr>\n",
       "      <th>8672</th>\n",
       "      <td>INTP</td>\n",
       "      <td>'So many questions when i do these things.  I ...</td>\n",
       "      <td>18.96</td>\n",
       "      <td>0.38</td>\n",
       "      <td>0.04</td>\n",
       "      <td>0.00</td>\n",
       "      <td>0.00</td>\n",
       "    </tr>\n",
       "    <tr>\n",
       "      <th>8673</th>\n",
       "      <td>INFP</td>\n",
       "      <td>'I am very conflicted right now when it comes ...</td>\n",
       "      <td>34.10</td>\n",
       "      <td>0.94</td>\n",
       "      <td>0.00</td>\n",
       "      <td>0.00</td>\n",
       "      <td>0.00</td>\n",
       "    </tr>\n",
       "    <tr>\n",
       "      <th>8674</th>\n",
       "      <td>INFP</td>\n",
       "      <td>'It has been too long since I have been on per...</td>\n",
       "      <td>27.22</td>\n",
       "      <td>0.48</td>\n",
       "      <td>0.06</td>\n",
       "      <td>0.00</td>\n",
       "      <td>0.00</td>\n",
       "    </tr>\n",
       "  </tbody>\n",
       "</table>\n",
       "<p>8675 rows × 7 columns</p>\n",
       "</div>"
      ],
      "text/plain": [
       "      type                                              posts  words_per_post  \\\n",
       "0     INFJ  'http://www.youtube.com/watch?v=qsXHcwe3krw|||...           11.12   \n",
       "1     ENTP  'I'm finding the lack of me in these posts ver...           23.40   \n",
       "2     INTP  'Good one  _____   https://www.youtube.com/wat...           16.72   \n",
       "3     INTJ  'Dear INTP,   I enjoyed our conversation the o...           21.28   \n",
       "4     ENTJ  'You're fired.|||That's another silly misconce...           19.34   \n",
       "...    ...                                                ...             ...   \n",
       "8670  ISFP  'https://www.youtube.com/watch?v=t8edHB_h908||...           15.92   \n",
       "8671  ENFP  'So...if this thread already exists someplace ...           26.18   \n",
       "8672  INTP  'So many questions when i do these things.  I ...           18.96   \n",
       "8673  INFP  'I am very conflicted right now when it comes ...           34.10   \n",
       "8674  INFP  'It has been too long since I have been on per...           27.22   \n",
       "\n",
       "      ... per Post  http per Post  music per Post  jpg per Post  \n",
       "0             0.30           0.48            0.02          0.12  \n",
       "1             0.38           0.20            0.00          0.02  \n",
       "2             0.26           0.10            0.00          0.00  \n",
       "3             0.52           0.04            0.02          0.00  \n",
       "4             0.42           0.12            0.02          0.04  \n",
       "...            ...            ...             ...           ...  \n",
       "8670          0.14           0.14            0.00          0.02  \n",
       "8671          0.82           0.04            0.00          0.00  \n",
       "8672          0.38           0.04            0.00          0.00  \n",
       "8673          0.94           0.00            0.00          0.00  \n",
       "8674          0.48           0.06            0.00          0.00  \n",
       "\n",
       "[8675 rows x 7 columns]"
      ]
     },
     "execution_count": 69,
     "metadata": {},
     "output_type": "execute_result"
    }
   ],
   "source": [
    "#Cecha 5: Ile średnio obrazków na post używa dana osoba?\n",
    "\n",
    "Average_frase_per_person('jpg')\n",
    "df"
   ]
  },
  {
   "cell_type": "code",
   "execution_count": 70,
   "metadata": {},
   "outputs": [
    {
     "name": "stderr",
     "output_type": "stream",
     "text": [
      "C:\\Program Files (x86)\\Anaconda\\lib\\site-packages\\pandas\\core\\indexing.py:205: SettingWithCopyWarning: \n",
      "A value is trying to be set on a copy of a slice from a DataFrame\n",
      "\n",
      "See the caveats in the documentation: http://pandas.pydata.org/pandas-docs/stable/user_guide/indexing.html#returning-a-view-versus-a-copy\n",
      "  self._setitem_with_indexer(indexer, value)\n"
     ]
    },
    {
     "data": {
      "text/html": [
       "<div>\n",
       "<style scoped>\n",
       "    .dataframe tbody tr th:only-of-type {\n",
       "        vertical-align: middle;\n",
       "    }\n",
       "\n",
       "    .dataframe tbody tr th {\n",
       "        vertical-align: top;\n",
       "    }\n",
       "\n",
       "    .dataframe thead th {\n",
       "        text-align: right;\n",
       "    }\n",
       "</style>\n",
       "<table border=\"1\" class=\"dataframe\">\n",
       "  <thead>\n",
       "    <tr style=\"text-align: right;\">\n",
       "      <th></th>\n",
       "      <th>type</th>\n",
       "      <th>posts</th>\n",
       "      <th>words_per_post</th>\n",
       "      <th>... per Post</th>\n",
       "      <th>http per Post</th>\n",
       "      <th>music per Post</th>\n",
       "      <th>jpg per Post</th>\n",
       "      <th>I per Post</th>\n",
       "    </tr>\n",
       "  </thead>\n",
       "  <tbody>\n",
       "    <tr>\n",
       "      <th>0</th>\n",
       "      <td>INFJ</td>\n",
       "      <td>'http://www.youtube.com/watch?v=qsXHcwe3krw|||...</td>\n",
       "      <td>11.12</td>\n",
       "      <td>0.30</td>\n",
       "      <td>0.48</td>\n",
       "      <td>0.02</td>\n",
       "      <td>0.12</td>\n",
       "      <td>0.46</td>\n",
       "    </tr>\n",
       "    <tr>\n",
       "      <th>1</th>\n",
       "      <td>ENTP</td>\n",
       "      <td>'I'm finding the lack of me in these posts ver...</td>\n",
       "      <td>23.40</td>\n",
       "      <td>0.38</td>\n",
       "      <td>0.20</td>\n",
       "      <td>0.00</td>\n",
       "      <td>0.02</td>\n",
       "      <td>2.02</td>\n",
       "    </tr>\n",
       "    <tr>\n",
       "      <th>2</th>\n",
       "      <td>INTP</td>\n",
       "      <td>'Good one  _____   https://www.youtube.com/wat...</td>\n",
       "      <td>16.72</td>\n",
       "      <td>0.26</td>\n",
       "      <td>0.10</td>\n",
       "      <td>0.00</td>\n",
       "      <td>0.00</td>\n",
       "      <td>0.98</td>\n",
       "    </tr>\n",
       "    <tr>\n",
       "      <th>3</th>\n",
       "      <td>INTJ</td>\n",
       "      <td>'Dear INTP,   I enjoyed our conversation the o...</td>\n",
       "      <td>21.28</td>\n",
       "      <td>0.52</td>\n",
       "      <td>0.04</td>\n",
       "      <td>0.02</td>\n",
       "      <td>0.00</td>\n",
       "      <td>1.74</td>\n",
       "    </tr>\n",
       "    <tr>\n",
       "      <th>4</th>\n",
       "      <td>ENTJ</td>\n",
       "      <td>'You're fired.|||That's another silly misconce...</td>\n",
       "      <td>19.34</td>\n",
       "      <td>0.42</td>\n",
       "      <td>0.12</td>\n",
       "      <td>0.02</td>\n",
       "      <td>0.04</td>\n",
       "      <td>0.92</td>\n",
       "    </tr>\n",
       "    <tr>\n",
       "      <th>...</th>\n",
       "      <td>...</td>\n",
       "      <td>...</td>\n",
       "      <td>...</td>\n",
       "      <td>...</td>\n",
       "      <td>...</td>\n",
       "      <td>...</td>\n",
       "      <td>...</td>\n",
       "      <td>...</td>\n",
       "    </tr>\n",
       "    <tr>\n",
       "      <th>8670</th>\n",
       "      <td>ISFP</td>\n",
       "      <td>'https://www.youtube.com/watch?v=t8edHB_h908||...</td>\n",
       "      <td>15.92</td>\n",
       "      <td>0.14</td>\n",
       "      <td>0.14</td>\n",
       "      <td>0.00</td>\n",
       "      <td>0.02</td>\n",
       "      <td>1.02</td>\n",
       "    </tr>\n",
       "    <tr>\n",
       "      <th>8671</th>\n",
       "      <td>ENFP</td>\n",
       "      <td>'So...if this thread already exists someplace ...</td>\n",
       "      <td>26.18</td>\n",
       "      <td>0.82</td>\n",
       "      <td>0.04</td>\n",
       "      <td>0.00</td>\n",
       "      <td>0.00</td>\n",
       "      <td>2.40</td>\n",
       "    </tr>\n",
       "    <tr>\n",
       "      <th>8672</th>\n",
       "      <td>INTP</td>\n",
       "      <td>'So many questions when i do these things.  I ...</td>\n",
       "      <td>18.96</td>\n",
       "      <td>0.38</td>\n",
       "      <td>0.04</td>\n",
       "      <td>0.00</td>\n",
       "      <td>0.00</td>\n",
       "      <td>0.98</td>\n",
       "    </tr>\n",
       "    <tr>\n",
       "      <th>8673</th>\n",
       "      <td>INFP</td>\n",
       "      <td>'I am very conflicted right now when it comes ...</td>\n",
       "      <td>34.10</td>\n",
       "      <td>0.94</td>\n",
       "      <td>0.00</td>\n",
       "      <td>0.00</td>\n",
       "      <td>0.00</td>\n",
       "      <td>3.22</td>\n",
       "    </tr>\n",
       "    <tr>\n",
       "      <th>8674</th>\n",
       "      <td>INFP</td>\n",
       "      <td>'It has been too long since I have been on per...</td>\n",
       "      <td>27.22</td>\n",
       "      <td>0.48</td>\n",
       "      <td>0.06</td>\n",
       "      <td>0.00</td>\n",
       "      <td>0.00</td>\n",
       "      <td>2.52</td>\n",
       "    </tr>\n",
       "  </tbody>\n",
       "</table>\n",
       "<p>8675 rows × 8 columns</p>\n",
       "</div>"
      ],
      "text/plain": [
       "      type                                              posts  words_per_post  \\\n",
       "0     INFJ  'http://www.youtube.com/watch?v=qsXHcwe3krw|||...           11.12   \n",
       "1     ENTP  'I'm finding the lack of me in these posts ver...           23.40   \n",
       "2     INTP  'Good one  _____   https://www.youtube.com/wat...           16.72   \n",
       "3     INTJ  'Dear INTP,   I enjoyed our conversation the o...           21.28   \n",
       "4     ENTJ  'You're fired.|||That's another silly misconce...           19.34   \n",
       "...    ...                                                ...             ...   \n",
       "8670  ISFP  'https://www.youtube.com/watch?v=t8edHB_h908||...           15.92   \n",
       "8671  ENFP  'So...if this thread already exists someplace ...           26.18   \n",
       "8672  INTP  'So many questions when i do these things.  I ...           18.96   \n",
       "8673  INFP  'I am very conflicted right now when it comes ...           34.10   \n",
       "8674  INFP  'It has been too long since I have been on per...           27.22   \n",
       "\n",
       "      ... per Post  http per Post  music per Post  jpg per Post  I per Post  \n",
       "0             0.30           0.48            0.02          0.12        0.46  \n",
       "1             0.38           0.20            0.00          0.02        2.02  \n",
       "2             0.26           0.10            0.00          0.00        0.98  \n",
       "3             0.52           0.04            0.02          0.00        1.74  \n",
       "4             0.42           0.12            0.02          0.04        0.92  \n",
       "...            ...            ...             ...           ...         ...  \n",
       "8670          0.14           0.14            0.00          0.02        1.02  \n",
       "8671          0.82           0.04            0.00          0.00        2.40  \n",
       "8672          0.38           0.04            0.00          0.00        0.98  \n",
       "8673          0.94           0.00            0.00          0.00        3.22  \n",
       "8674          0.48           0.06            0.00          0.00        2.52  \n",
       "\n",
       "[8675 rows x 8 columns]"
      ]
     },
     "execution_count": 70,
     "metadata": {},
     "output_type": "execute_result"
    }
   ],
   "source": [
    "#Cecha 6: Ile średnio SŁowa 'I' na post używa dana osoba?\n",
    "#Wzięte z Analizy częstości występowania\n",
    "\n",
    "Average_frase_per_person('I')\n",
    "df"
   ]
  },
  {
   "cell_type": "markdown",
   "metadata": {},
   "source": [
    "#### Wizualizacja"
   ]
  },
  {
   "cell_type": "markdown",
   "metadata": {},
   "source": [
    "Zobaczmy na ile wybrane Cechy różnią się pomiędzy grupami. Zwizualizujmy je razem, gdzie podobienstwo bedzie widoczne komparatytywnie"
   ]
  },
  {
   "cell_type": "code",
   "execution_count": 71,
   "metadata": {},
   "outputs": [],
   "source": [
    "#Wizualizacja Razem --> pokazanie że średnie są niemalże identyczne ==> słaba rozpoznawalność\n",
    "\n",
    "def wykres_osobowosci_razem(od_czego,do_czego='type'):\n",
    "    from matplotlib import cm\n",
    "  \n",
    "    viridis = cm.get_cmap('plasma', 12)\n",
    "    colors = viridis(np.linspace(0, 1, 16))\n",
    "\n",
    "    typ_osobow = np.unique(df[do_czego])\n",
    "    plt.figure(figsize = (10,10))\n",
    "   # cmap = ['b', 'g', 'r', 'c', 'm', 'y', 'k', 'w','b', 'g', 'r', 'c', 'm', 'y', 'k', 'w']\n",
    "    for i in range(len(typ_osobow)):\n",
    "        plt.axvline(x=np.mean(df[od_czego].loc[df[do_czego]==typ_osobow[i]]),color=colors[i])\n",
    "        plt.hist(df[od_czego].loc[df[do_czego]==typ_osobow[i]],bins=25,color=colors[i])\n",
    "        plt.title(od_czego)\n",
    "        plt.xlabel(\" per post\")\n",
    "        plt.ylabel(\"Number of records\")\n",
    "\n",
    "        #print(\"{}: {}\".format(typ_osobow[i],np.mean(df[od_czego].loc[df['type']==typ_osobow[i]])))\n",
    "    plt.legend(typ_osobow)\n",
    "    plt.show\n",
    "\n",
    "#wizualizacja poszczególnych Cech dla wybranych typów osobowości\n",
    "\n",
    "def wykres_osobowosci(od_czego,ticks=(0,5,10,15,20,25,30,35),tyks=[0,100,200,300,400,500,600,700,800]):\n",
    "    from matplotlib import cm\n",
    "    viridis = cm.get_cmap('plasma', 12)\n",
    "    colors = viridis(np.linspace(0, 1, 16))\n",
    "    \n",
    "    typ_osobow = np.unique(df['type'])\n",
    "    fig,axes = plt.subplots(4,4,figsize=(20,20))\n",
    "    for i,ax in zip(range(len(typ_osobow)),axes.ravel()):\n",
    "        ax.hist(df[od_czego].loc[df['type']==typ_osobow[i]],bins=25,color=colors[12])\n",
    "        ax.axvline(x=np.mean(df[od_czego].loc[df['type']==typ_osobow[i]]),color=colors[4])\n",
    "        ax.set_xticks(ticks)\n",
    "        ax.set_xlabel(\"per post\")\n",
    "        ax.set_ylabel(\"Number of records\")\n",
    "        ax.set_yticks(tyks)\n",
    "        ax.title.set_text(typ_osobow[i])\n",
    "        print(\"{}: {}\".format(typ_osobow[i],np.mean(df[od_czego].loc[df['type']==typ_osobow[i]])))\n",
    "    plt.show\n",
    "\n",
    "    \n",
    "\n"
   ]
  },
  {
   "cell_type": "code",
   "execution_count": 72,
   "metadata": {},
   "outputs": [
    {
     "data": {
      "image/png": "[encoded data removed]",
      "text/plain": [
       "<Figure size 720x720 with 1 Axes>"
      ]
     },
     "metadata": {},
     "output_type": "display_data"
    },
    {
     "data": {
      "image/png": "[encoded data removed]",
      "text/plain": [
       "<Figure size 720x720 with 1 Axes>"
      ]
     },
     "metadata": {},
     "output_type": "display_data"
    },
    {
     "data": {
      "image/png": "[encoded data removed]",
      "text/plain": [
       "<Figure size 720x720 with 1 Axes>"
      ]
     },
     "metadata": {},
     "output_type": "display_data"
    },
    {
     "data": {
      "image/png": "[encoded data removed]",
      "text/plain": [
       "<Figure size 720x720 with 1 Axes>"
      ]
     },
     "metadata": {},
     "output_type": "display_data"
    },
    {
     "data": {
      "image/png": "[encoded data removed]",
      "text/plain": [
       "<Figure size 720x720 with 1 Axes>"
      ]
     },
     "metadata": {},
     "output_type": "display_data"
    },
    {
     "data": {
      "image/png": "[encoded data removed]",
      "text/plain": [
       "<Figure size 720x720 with 1 Axes>"
      ]
     },
     "metadata": {},
     "output_type": "display_data"
    }
   ],
   "source": [
    "wykres_osobowosci_razem('words_per_post')\n",
    "wykres_osobowosci_razem('... per Post')\n",
    "wykres_osobowosci_razem('jpg per Post')\n",
    "wykres_osobowosci_razem('music per Post')\n",
    "wykres_osobowosci_razem('http per Post')\n",
    "wykres_osobowosci_razem('I per Post')"
   ]
  },
  {
   "cell_type": "markdown",
   "metadata": {},
   "source": [
    "z faktu, że większosc danych sie pokrywa, możemy wnioskowac podobną strukturę. Średnie również nie rożnią się znacząco pomiędzy typami osobowości"
   ]
  },
  {
   "cell_type": "markdown",
   "metadata": {},
   "source": [
    "Pokażemy osobno każdą Cechę ,żeby to potwierdzić oraz pokażemy średnie"
   ]
  },
  {
   "cell_type": "code",
   "execution_count": 73,
   "metadata": {},
   "outputs": [
    {
     "name": "stdout",
     "output_type": "stream",
     "text": [
      "ENFJ: 25.731789473684206\n",
      "ENFP: 25.21558518518521\n",
      "ENTJ: 24.361991341991345\n",
      "ENTP: 24.12002919708029\n",
      "ESFJ: 25.81\n",
      "ESFP: 20.4425\n",
      "ESTJ: 24.59076923076923\n",
      "ESTP: 23.25191011235956\n",
      "INFJ: 25.56888435374151\n",
      "INFP: 24.891266375545865\n",
      "INTJ: 23.891732355637053\n",
      "INTP: 23.95547546012269\n",
      "ISFJ: 24.82590361445782\n",
      "ISFP: 22.728265682656826\n",
      "ISTJ: 24.264487804878044\n",
      "ISTP: 23.3113353115727\n"
     ]
    },
    {
     "data": {
      "image/png": "[encoded data removed]",
      "text/plain": [
       "<Figure size 1440x1440 with 16 Axes>"
      ]
     },
     "metadata": {},
     "output_type": "display_data"
    }
   ],
   "source": [
    "#Ilość słów na post\n",
    "\n",
    "wykres_osobowosci('words_per_post',tyks=[0,30,60,90,120,150,180,210,240]\n",
    ")"
   ]
  },
  {
   "cell_type": "code",
   "execution_count": 74,
   "metadata": {},
   "outputs": [
    {
     "name": "stdout",
     "output_type": "stream",
     "text": [
      "ENFJ: 0.05326315789473676\n",
      "ENFP: 0.05045925925925915\n",
      "ENTJ: 0.05316017316017309\n",
      "ENTP: 0.048262773722627564\n",
      "ESFJ: 0.027142857142857146\n",
      "ESFP: 0.05541666666666667\n",
      "ESTJ: 0.05282051282051283\n",
      "ESTP: 0.06471910112359547\n",
      "INFJ: 0.06587755102040828\n",
      "INFP: 0.07542576419213985\n",
      "INTJ: 0.06359303391384065\n",
      "INTP: 0.07076687116564434\n",
      "ISFJ: 0.07060240963855414\n",
      "ISFP: 0.08833948339483383\n",
      "ISTJ: 0.06117073170731704\n",
      "ISTP: 0.08100890207715115\n"
     ]
    },
    {
     "data": {
      "image/png": "[encoded data removed]",
      "text/plain": [
       "<Figure size 1440x1440 with 16 Axes>"
      ]
     },
     "metadata": {},
     "output_type": "display_data"
    }
   ],
   "source": [
    "#ilość linków\n",
    "\n",
    "wykres_osobowosci('http per Post',ticks=(0.0,0.1,0.2,0.3,0.4,0.5,0.6),tyks=[0,150,300,450,600,750,900,1050,1200])\n"
   ]
  },
  {
   "cell_type": "code",
   "execution_count": 75,
   "metadata": {},
   "outputs": [
    {
     "name": "stdout",
     "output_type": "stream",
     "text": [
      "ENFJ: 0.7444210526315788\n",
      "ENFP: 0.7158814814814816\n",
      "ENTJ: 0.646666666666667\n",
      "ENTP: 0.6310364963503654\n",
      "ESFJ: 0.6385714285714285\n",
      "ESFP: 0.53375\n",
      "ESTJ: 0.6307692307692309\n",
      "ESTP: 0.5775280898876403\n",
      "INFJ: 0.7214285714285714\n",
      "INFP: 0.6765938864628811\n",
      "INTJ: 0.6305407882676447\n",
      "INTP: 0.6321779141104287\n",
      "ISFJ: 0.66144578313253\n",
      "ISFP: 0.5961623616236162\n",
      "ISTJ: 0.6383414634146342\n",
      "ISTP: 0.5869436201780414\n"
     ]
    },
    {
     "data": {
      "image/png": "[encoded data removed]",
      "text/plain": [
       "<Figure size 1440x1440 with 16 Axes>"
      ]
     },
     "metadata": {},
     "output_type": "display_data"
    }
   ],
   "source": [
    "#, ilośc wielokropków\n",
    "\n",
    "wykres_osobowosci('... per Post',ticks=(0.0,0.5,1.0,1.5,2.0,3.0,3.5),tyks=[0,35,70,105,140,175,210,245,280])\n"
   ]
  },
  {
   "cell_type": "code",
   "execution_count": 76,
   "metadata": {},
   "outputs": [
    {
     "name": "stdout",
     "output_type": "stream",
     "text": [
      "ENFJ: 0.012736842105263164\n",
      "ENFP: 0.01274074074074069\n",
      "ENTJ: 0.006147186147186151\n",
      "ENTP: 0.008671532846715306\n",
      "ESFJ: 0.007142857142857143\n",
      "ESFP: 0.007083333333333334\n",
      "ESTJ: 0.009230769230769232\n",
      "ESTP: 0.008539325842696632\n",
      "INFJ: 0.011605442176870663\n",
      "INFP: 0.01669213973799109\n",
      "INTJ: 0.009055912007332658\n",
      "INTP: 0.01277607361963181\n",
      "ISFJ: 0.011807228915662656\n",
      "ISFP: 0.020295202952029502\n",
      "ISTJ: 0.00965853658536586\n",
      "ISTP: 0.010207715133531164\n"
     ]
    },
    {
     "data": {
      "image/png": "[encoded data removed]",
      "text/plain": [
       "<Figure size 1440x1440 with 16 Axes>"
      ]
     },
     "metadata": {},
     "output_type": "display_data"
    }
   ],
   "source": [
    "#ilość muzyki\n",
    "\n",
    "wykres_osobowosci('music per Post',ticks=(0.0,0.02,0.04,0.06,0.08,0.10,0.12,0.14),tyks=[0,150,300,450,600,750,900,1050,1200])\n"
   ]
  },
  {
   "cell_type": "code",
   "execution_count": 77,
   "metadata": {},
   "outputs": [
    {
     "name": "stdout",
     "output_type": "stream",
     "text": [
      "ENFJ: 0.011578947368421057\n",
      "ENFP: 0.01054814814814813\n",
      "ENTJ: 0.012987012987012993\n",
      "ENTP: 0.012729927007299227\n",
      "ESFJ: 0.006666666666666667\n",
      "ESFP: 0.012500000000000002\n",
      "ESTJ: 0.01230769230769231\n",
      "ESTP: 0.01752808988764045\n",
      "INFJ: 0.012571428571428513\n",
      "INFP: 0.015534934497816512\n",
      "INTJ: 0.01470210815765347\n",
      "INTP: 0.015720858895705434\n",
      "ISFJ: 0.013975903614457838\n",
      "ISFP: 0.014612546125461263\n",
      "ISTJ: 0.013365853658536594\n",
      "ISTP: 0.014005934718100887\n"
     ]
    },
    {
     "data": {
      "image/png": "[encoded data removed]",
      "text/plain": [
       "<Figure size 1440x1440 with 16 Axes>"
      ]
     },
     "metadata": {},
     "output_type": "display_data"
    }
   ],
   "source": [
    "#, ilość jpgów\n",
    "\n",
    "wykres_osobowosci('jpg per Post',ticks=(0.0,0.1,0.2,0.3,0.4,0.5,0.6),tyks=[0,200,400,600,800,1000,1200,1400,1600])\n"
   ]
  },
  {
   "cell_type": "code",
   "execution_count": 78,
   "metadata": {},
   "outputs": [
    {
     "name": "stdout",
     "output_type": "stream",
     "text": [
      "ENFJ: 1.8402105263157906\n",
      "ENFP: 1.8632592592592594\n",
      "ENTJ: 1.6726406926406912\n",
      "ENTP: 1.629489051094891\n",
      "ESFJ: 2.0476190476190474\n",
      "ESFP: 1.5391666666666663\n",
      "ESTJ: 1.7133333333333336\n",
      "ESTP: 1.5795505617977532\n",
      "INFJ: 1.9290884353741473\n",
      "INFP: 1.8969759825327506\n",
      "INTJ: 1.6979101741521536\n",
      "INTP: 1.7457822085889572\n",
      "ISFJ: 2.0307228915662647\n",
      "ISFP: 1.8080442804428034\n",
      "ISTJ: 1.7922926829268289\n",
      "ISTP: 1.6734718100890196\n"
     ]
    },
    {
     "data": {
      "image/png": "[encoded data removed]",
      "text/plain": [
       "<Figure size 1440x1440 with 16 Axes>"
      ]
     },
     "metadata": {},
     "output_type": "display_data"
    }
   ],
   "source": [
    "#, ilość użycia 'I'\n",
    "\n",
    "wykres_osobowosci('I per Post',ticks=(0.0,0.5,1,1.5,2,2.5,3),tyks=[0,20,40,60,80,100,120,140,160])\n"
   ]
  },
  {
   "cell_type": "markdown",
   "metadata": {},
   "source": [
    "Widzimy z tego że różnice są widoczne jedynie w Parach cech binarnych"
   ]
  },
  {
   "cell_type": "markdown",
   "metadata": {},
   "source": [
    "#### Selekcja istotnych Cech"
   ]
  },
  {
   "cell_type": "code",
   "execution_count": 79,
   "metadata": {},
   "outputs": [
    {
     "name": "stdout",
     "output_type": "stream",
     "text": [
      "(8675, 6)\n",
      "(8675,)\n",
      "            Specs       Score\n",
      "0  words_per_post  219.272107\n",
      "5      I per Post   54.593654\n",
      "1    ... per Post   22.173564\n",
      "2   http per Post   13.328238\n",
      "3  music per Post    6.382853\n",
      "4    jpg per Post    1.907333\n"
     ]
    }
   ],
   "source": [
    "import pandas as pd\n",
    "import numpy as np\n",
    "from sklearn.feature_selection import SelectKBest\n",
    "from sklearn.feature_selection import f_classif\n",
    "from sklearn.feature_selection import chi2\n",
    "\n",
    "XX = df.drop(['type','posts'], axis=1).values\n",
    "yy = df['type'].values\n",
    "\n",
    "print(XX.shape)\n",
    "print(yy.shape)\n",
    "\n",
    "from sklearn.model_selection import train_test_split\n",
    "X_train,X_test,y_train,y_test=train_test_split(XX,yy,test_size = 0.1, random_state=42)\n",
    "\n",
    "\n",
    "\n",
    "bestfeatures = SelectKBest(score_func=chi2, k=6)\n",
    "fit = bestfeatures.fit(X_train,y_train)\n",
    "dfscores = pd.DataFrame(fit.scores_)\n",
    "dfcolumns = pd.DataFrame(df.drop(['type','posts'], axis=1).columns)\n",
    "\n",
    "featureScores = pd.concat([dfcolumns,dfscores],axis=1)\n",
    "featureScores.columns = ['Specs','Score']  #naming the dataframe columns\n",
    "print(featureScores.nlargest(6,'Score'))  #print best features"
   ]
  },
  {
   "cell_type": "markdown",
   "metadata": {},
   "source": [
    "Okazuje się że jpg w ogóle nie mają znaczenia a użycie słowa music również nie róznicuje grup"
   ]
  },
  {
   "cell_type": "code",
   "execution_count": 80,
   "metadata": {},
   "outputs": [
    {
     "data": {
      "text/html": [
       "<div>\n",
       "<style scoped>\n",
       "    .dataframe tbody tr th:only-of-type {\n",
       "        vertical-align: middle;\n",
       "    }\n",
       "\n",
       "    .dataframe tbody tr th {\n",
       "        vertical-align: top;\n",
       "    }\n",
       "\n",
       "    .dataframe thead th {\n",
       "        text-align: right;\n",
       "    }\n",
       "</style>\n",
       "<table border=\"1\" class=\"dataframe\">\n",
       "  <thead>\n",
       "    <tr style=\"text-align: right;\">\n",
       "      <th></th>\n",
       "      <th>words_per_post</th>\n",
       "      <th>... per Post</th>\n",
       "      <th>http per Post</th>\n",
       "      <th>music per Post</th>\n",
       "      <th>jpg per Post</th>\n",
       "      <th>I per Post</th>\n",
       "    </tr>\n",
       "  </thead>\n",
       "  <tbody>\n",
       "    <tr>\n",
       "      <th>words_per_post</th>\n",
       "      <td>1.000000</td>\n",
       "      <td>0.694532</td>\n",
       "      <td>-0.420049</td>\n",
       "      <td>0.045314</td>\n",
       "      <td>-0.229499</td>\n",
       "      <td>0.709836</td>\n",
       "    </tr>\n",
       "    <tr>\n",
       "      <th>... per Post</th>\n",
       "      <td>0.694532</td>\n",
       "      <td>1.000000</td>\n",
       "      <td>-0.245076</td>\n",
       "      <td>0.026490</td>\n",
       "      <td>-0.120342</td>\n",
       "      <td>0.465793</td>\n",
       "    </tr>\n",
       "    <tr>\n",
       "      <th>http per Post</th>\n",
       "      <td>-0.420049</td>\n",
       "      <td>-0.245076</td>\n",
       "      <td>1.000000</td>\n",
       "      <td>0.089092</td>\n",
       "      <td>0.539560</td>\n",
       "      <td>-0.294472</td>\n",
       "    </tr>\n",
       "    <tr>\n",
       "      <th>music per Post</th>\n",
       "      <td>0.045314</td>\n",
       "      <td>0.026490</td>\n",
       "      <td>0.089092</td>\n",
       "      <td>1.000000</td>\n",
       "      <td>0.003052</td>\n",
       "      <td>0.064607</td>\n",
       "    </tr>\n",
       "    <tr>\n",
       "      <th>jpg per Post</th>\n",
       "      <td>-0.229499</td>\n",
       "      <td>-0.120342</td>\n",
       "      <td>0.539560</td>\n",
       "      <td>0.003052</td>\n",
       "      <td>1.000000</td>\n",
       "      <td>-0.173834</td>\n",
       "    </tr>\n",
       "    <tr>\n",
       "      <th>I per Post</th>\n",
       "      <td>0.709836</td>\n",
       "      <td>0.465793</td>\n",
       "      <td>-0.294472</td>\n",
       "      <td>0.064607</td>\n",
       "      <td>-0.173834</td>\n",
       "      <td>1.000000</td>\n",
       "    </tr>\n",
       "  </tbody>\n",
       "</table>\n",
       "</div>"
      ],
      "text/plain": [
       "                words_per_post  ... per Post  http per Post  music per Post  \\\n",
       "words_per_post        1.000000      0.694532      -0.420049        0.045314   \n",
       "... per Post          0.694532      1.000000      -0.245076        0.026490   \n",
       "http per Post        -0.420049     -0.245076       1.000000        0.089092   \n",
       "music per Post        0.045314      0.026490       0.089092        1.000000   \n",
       "jpg per Post         -0.229499     -0.120342       0.539560        0.003052   \n",
       "I per Post            0.709836      0.465793      -0.294472        0.064607   \n",
       "\n",
       "                jpg per Post  I per Post  \n",
       "words_per_post     -0.229499    0.709836  \n",
       "... per Post       -0.120342    0.465793  \n",
       "http per Post       0.539560   -0.294472  \n",
       "music per Post      0.003052    0.064607  \n",
       "jpg per Post        1.000000   -0.173834  \n",
       "I per Post         -0.173834    1.000000  "
      ]
     },
     "execution_count": 80,
     "metadata": {},
     "output_type": "execute_result"
    }
   ],
   "source": [
    "df.drop(['type','posts'], axis=1).corr()"
   ]
  },
  {
   "cell_type": "code",
   "execution_count": 81,
   "metadata": {},
   "outputs": [
    {
     "data": {
      "text/plain": [
       "<matplotlib.collections.PolyCollection at 0x1a89bf28>"
      ]
     },
     "execution_count": 81,
     "metadata": {},
     "output_type": "execute_result"
    },
    {
     "data": {
      "image/png": "[encoded data removed]",
      "text/plain": [
       "<Figure size 504x504 with 1 Axes>"
      ]
     },
     "metadata": {},
     "output_type": "display_data"
    }
   ],
   "source": [
    "plt.figure(figsize = (7,7))\n",
    "heatmap(df.drop(['type','posts'], axis=1).corr(), xlabel = 'type', ylabel ='type', xticklabels=['words_per_post','... per Post','http per Post','music per Post','jpg per Post','I per Post'], yticklabels= ['words_per_post','... per Post','http per Post','music per Post','jpg per Post','I per Post'], cmap='plasma',\n",
    "            vmin=None, vmax=None, ax=None, fmt=\"%0.2f\")"
   ]
  },
  {
   "cell_type": "markdown",
   "metadata": {},
   "source": [
    "Wynika z tego że najbardziej istotne będą cechy: words per post, ... per post oraz I per post"
   ]
  },
  {
   "cell_type": "markdown",
   "metadata": {},
   "source": [
    "**Dalsza Analiza pokazał jednak znikomy wpływ selekcji cech na wydajność modelu**"
   ]
  },
  {
   "cell_type": "markdown",
   "metadata": {},
   "source": [
    "### rozpoznanie osobowości MBTI --> pokazanie koniecznośc Resamplingu\n"
   ]
  },
  {
   "cell_type": "code",
   "execution_count": 82,
   "metadata": {},
   "outputs": [
    {
     "name": "stdout",
     "output_type": "stream",
     "text": [
      "(8675, 6)\n",
      "(8675,)\n"
     ]
    }
   ],
   "source": [
    "XX = df.drop(['type','posts'], axis=1).values\n",
    "yy = df['type'].values\n",
    "\n",
    "print(XX.shape)\n",
    "print(yy.shape)\n",
    "\n",
    "from sklearn.model_selection import train_test_split\n",
    "X_train,X_test,y_train,y_test=train_test_split(XX,yy,test_size = 0.1, random_state=42)\n"
   ]
  },
  {
   "cell_type": "code",
   "execution_count": null,
   "metadata": {},
   "outputs": [
    {
     "data": {
      "image/png": "[encoded data removed]",
      "text/plain": [
       "<Figure size 864x288 with 1 Axes>"
      ]
     },
     "metadata": {},
     "output_type": "display_data"
    }
   ],
   "source": [
    "\n",
    "#Wizualizacja udziału Klas\n",
    "\n",
    "from matplotlib import cm\n",
    "\n",
    "cnt_srs = df['type'].value_counts()\n",
    "viridis = cm.get_cmap('plasma', 12)\n",
    "colors = viridis(np.flip(np.linspace(0, 1, 16)))\n",
    "plt.figure(figsize=(12,4))\n",
    "sns.barplot(cnt_srs.index, cnt_srs.values, alpha=0.8,palette=colors)\n",
    "plt.ylabel('Number of Occurrences', fontsize=12)\n",
    "plt.xlabel('Types', fontsize=12)\n",
    "plt.show()"
   ]
  },
  {
   "cell_type": "code",
   "execution_count": null,
   "metadata": {},
   "outputs": [],
   "source": [
    "#Przykładowy model --> jeden ze zwróconych przez Grid\n",
    "\n",
    "from sklearn.svm import SVC\n",
    "from sklearn.linear_model import LogisticRegression\n",
    "from sklearn.ensemble import ExtraTreesClassifier\n",
    "from sklearn.ensemble import VotingClassifier\n",
    "\n",
    "logreg3 = SVC(kernel ='rbf', gamma= 0.1, C=0.1,probability = True)\n",
    "logreg3.fit(X_train[:,[0,1,5]],y_train)\n",
    "\n",
    "\n",
    "from sklearn import metrics\n",
    "\n",
    "print(metrics.accuracy_score(y_test, logreg3.predict(X_test[:,[0,1,5]])))\n",
    "print(metrics.f1_score(y_test, logreg3.predict(X_test[:,[0,1,5]]),average='micro'))"
   ]
  },
  {
   "cell_type": "markdown",
   "metadata": {},
   "source": [
    "Bez Selekcji;\n",
    "\n",
    "    0.20046082949308755\n",
    "    0.20046082949308755"
   ]
  },
  {
   "cell_type": "code",
   "execution_count": null,
   "metadata": {},
   "outputs": [],
   "source": [
    "print(\"R^2: {}\".format(metrics.precision_score(y_test, logreg3.predict(X_test[:,[0,1,5]]),average='macro') ))\n",
    "print(\"recall_score: {}\".format( metrics.recall_score(y_test, logreg3.predict(X_test[:,[0,1,5]]),average='macro') ))\n",
    "print(\"f1_score: {}\".format( metrics.f1_score(y_test, logreg3.predict(X_test[:,[0,1,5]]),average='macro') ))\n",
    "print(\"accuracy_score: {}\".format( metrics.accuracy_score(y_test, logreg3.predict(X_test[:,[0,1,5]])) ))"
   ]
  },
  {
   "cell_type": "code",
   "execution_count": null,
   "metadata": {},
   "outputs": [],
   "source": [
    "#print(metrics.confusion_matrix(y_test, logreg3.predict(X_test[:,[0,1,2,3,5]])))\n",
    "import seaborn as sn\n",
    "import pandas as pd\n",
    "import matplotlib.pyplot as plt\n",
    "array =metrics.confusion_matrix(y_test, logreg3.predict(X_test[:,[0,1,5]]))\n",
    "\n",
    "personality_types = np.unique(y_test)\n",
    "\n",
    "df_cm = pd.DataFrame(array, index = [i for i in personality_types],\n",
    "                  columns = [i for i in personality_types])\n",
    "\n",
    "plt.figure(figsize = (15,15))\n",
    "heatmap(array, xlabel='True', xticklabels=personality_types, ylabel='Predicted', yticklabels=personality_types, cmap=\"plasma\")\n",
    "plt.show()"
   ]
  },
  {
   "cell_type": "markdown",
   "metadata": {},
   "source": [
    "Jak Widać przydzielono tylko i wyłącznie do jednej klasy"
   ]
  },
  {
   "cell_type": "markdown",
   "metadata": {},
   "source": [
    "### Resampling "
   ]
  },
  {
   "cell_type": "code",
   "execution_count": null,
   "metadata": {},
   "outputs": [],
   "source": [
    "import pandas as pd\n",
    "import numpy as np\n",
    "from sklearn.feature_selection import SelectKBest\n",
    "from sklearn.feature_selection import f_classif\n",
    "from sklearn.feature_selection import chi2\n",
    "from imblearn.under_sampling import NearMiss\n",
    "from imblearn.over_sampling import SMOTE\n",
    "\n",
    "XX = df.drop(['type','posts'], axis=1).values\n",
    "yy = df['type'].values\n",
    "\n",
    "print(XX.shape)\n",
    "print(yy.shape)\n",
    "\n",
    "from sklearn.model_selection import train_test_split\n",
    "X_train,X_test,y_train,y_test=train_test_split(XX,yy,test_size = 0.1, random_state=42)\n",
    "\n",
    "nm1 = NearMiss(version=1)\n",
    "sm = SMOTE()\n",
    "X_train_res, y_train_res = sm.fit_sample(X_train, y_train)\n",
    "#X_test_res, y_test_res = sm.fit_sample(X_test, y_test)\n",
    "\n",
    "#print(y_train_res)\n",
    "print(y_test.shape)"
   ]
  },
  {
   "cell_type": "code",
   "execution_count": null,
   "metadata": {},
   "outputs": [],
   "source": [
    "#Wizualizacja Zresamplowanych Klas\n",
    "\n",
    "df_res = pd.DataFrame(X_train_res)\n",
    "df_res.columns = ['words_per_post','... per Post','http per Post','music per Post','jpg per Post','I per Post']\n",
    "df_res[\"type\"] = y_train_res\n",
    "\n",
    "\n",
    "cnt_srs = df_res[\"type\"].value_counts()\n",
    "viridis = cm.get_cmap('plasma', 12)\n",
    "colors = viridis(np.flip(np.linspace(0, 1, 16)))\n",
    "plt.figure(figsize=(12,4))\n",
    "sns.barplot(cnt_srs.index, cnt_srs.values, alpha=0.8,palette=colors)\n",
    "plt.ylabel('Number of Occurrences', fontsize=12)\n",
    "plt.xlabel('Types', fontsize=12)\n",
    "plt.show()"
   ]
  },
  {
   "cell_type": "code",
   "execution_count": null,
   "metadata": {},
   "outputs": [],
   "source": [
    "#Feature Selection\n",
    "\n",
    "import pandas as pd\n",
    "import numpy as np\n",
    "from sklearn.feature_selection import SelectKBest\n",
    "from sklearn.feature_selection import f_classif\n",
    "from sklearn.feature_selection import chi2\n",
    "\n",
    "\n",
    "#apply SelectKBest class to extract top 10 best features\n",
    "bestfeatures = SelectKBest(score_func=chi2, k=6)\n",
    "fit = bestfeatures.fit(X_train_res,y_train_res)\n",
    "dfscores = pd.DataFrame(fit.scores_)\n",
    "dfcolumns = pd.DataFrame(df.drop(['type','posts'], axis=1).columns)\n",
    "#concat two dataframes for better visualization \n",
    "featureScores = pd.concat([dfcolumns,dfscores],axis=1)\n",
    "featureScores.columns = ['Specs','Score']  #naming the dataframe columns\n",
    "print(featureScores.nlargest(6,'Score'))  #print 10 best features"
   ]
  },
  {
   "cell_type": "code",
   "execution_count": null,
   "metadata": {},
   "outputs": [],
   "source": [
    "plt.figure(figsize = (7,7))\n",
    "heatmap(df.drop(['type','posts'], axis=1).corr(), xlabel = 'type', ylabel ='type', xticklabels=['words_per_post','... per Post','http per Post','music per Post','jpg per Post','I per Post'], yticklabels= ['words_per_post','... per Post','http per Post','music per Post','jpg per Post','I per Post'], cmap='plasma',\n",
    "            vmin=None, vmax=None, ax=None, fmt=\"%0.2f\")"
   ]
  },
  {
   "cell_type": "markdown",
   "metadata": {},
   "source": [
    "3 bajważniejsze Cechy nie zmeniły się"
   ]
  },
  {
   "cell_type": "code",
   "execution_count": null,
   "metadata": {},
   "outputs": [],
   "source": [
    "from sklearn.svm import SVC\n",
    "from sklearn.linear_model import LogisticRegression\n",
    "from sklearn.ensemble import ExtraTreesClassifier\n",
    "from sklearn.ensemble import VotingClassifier\n",
    "from sklearn import metrics\n",
    "\n",
    "\n",
    "XX = df.drop(['type','posts'], axis=1).values\n",
    "yy = df['type'].values\n",
    "\n",
    "from sklearn.model_selection import train_test_split\n",
    "X_train,X_test,y_train,y_test=train_test_split(XX,yy,test_size = 0.1, random_state=42)\n",
    "\n",
    "sm = SMOTE()\n",
    "X_train_res, y_train_res = sm.fit_sample(X_train, y_train)"
   ]
  },
  {
   "cell_type": "code",
   "execution_count": null,
   "metadata": {},
   "outputs": [],
   "source": [
    "#Best Clssificator:\n",
    "from sklearn.ensemble import ExtraTreesClassifier\n",
    "Classif_res_Type = ExtraTreesClassifier(max_leaf_nodes = 64, n_estimators = 400)\n",
    "Classif_res_Type.fit(X_train_res, y_train_res)\n",
    "\n",
    "from sklearn import metrics\n",
    "\n",
    "print(\"R^2: {}\".format(metrics.precision_score(y_test, Classif_res_Type.predict(X_test),average='macro') ))\n",
    "print(\"recall_score: {}\".format( metrics.recall_score(y_test, Classif_res_Type.predict(X_test),average='macro') ))\n",
    "print(\"f1_score: {}\".format( metrics.f1_score(y_test, Classif_res_Type.predict(X_test),average='macro') ))\n",
    "print(\"accuracy_score: {}\".format( metrics.accuracy_score(y_test, Classif_res_Type.predict(X_test)) ))"
   ]
  },
  {
   "cell_type": "markdown",
   "metadata": {},
   "source": [
    "Selekcja Cech:\n",
    "\n",
    "    R^2: 0.06337332946630916\n",
    "    recall_score: 0.057190302764957616\n",
    "    f1_score: 0.03632682063032406\n",
    "    accuracy_score: 0.038018433179723504"
   ]
  },
  {
   "cell_type": "code",
   "execution_count": null,
   "metadata": {},
   "outputs": [],
   "source": [
    "import seaborn as sn\n",
    "import pandas as pd\n",
    "import matplotlib.pyplot as plt\n",
    "array =metrics.confusion_matrix(y_test, Classif_res_Type.predict(X_test))\n",
    "\n",
    "personality_types = np.unique(y_test)\n",
    "\n",
    "df_cm = pd.DataFrame(array, index = [i for i in personality_types],\n",
    "                  columns = [i for i in personality_types])\n",
    "\n",
    "plt.figure(figsize = (15,15))\n",
    "heatmap(array, xlabel='True', xticklabels=personality_types, ylabel='Predicted', yticklabels=personality_types, cmap=\"plasma\")\n",
    "plt.show() "
   ]
  },
  {
   "cell_type": "markdown",
   "metadata": {},
   "source": [
    "Klasyfikacja Typów osobowości osiąga żałosne rezultaty: Sprawdźmy czy jeśli nie wybierzemy Cech manualnie coś się zmieni!"
   ]
  },
  {
   "cell_type": "markdown",
   "metadata": {},
   "source": [
    "### Automatyczna Ekstrakcja Cech"
   ]
  },
  {
   "cell_type": "markdown",
   "metadata": {},
   "source": [
    "Przeprowadzimy Teraz Automatyczną ekstrakcję ważkich cech za pomocą TFiDF"
   ]
  },
  {
   "cell_type": "markdown",
   "metadata": {},
   "source": [
    "    TFIDF (ang. TF – term frequency, IDF – inverse document frequency) – ważenie częstością termów – odwrotna częstość w \n",
    "    dokumentach – jedna z metod obliczania wagi słów w oparciu o liczbę ich wystąpień, należąca do grupy algorytmów \n",
    "    obliczających statystyczne wagi termów. \n",
    "    Każdy dokument reprezentowany jest przez wektor, składający się z wag słów występujących w tym dokumencie.\n",
    "    TFIDF informuje o częstości wystąpienia termów uwzględniając jednocześnie odpowiednie wyważenie znaczenia lokalnego termu\n",
    "    oraz jego znaczenia w kontekście pełnej kolekcji dokumentów."
   ]
  },
  {
   "cell_type": "markdown",
   "metadata": {},
   "source": [
    "TFIDF zwróci nam najczęsciej występujące słowa dla poszczególnych grup, ale ważone miejscem ich wystepowania. Algorytm jednak nie zapewnia analziy Syntatkycznej ani Semnatycznej"
   ]
  },
  {
   "cell_type": "code",
   "execution_count": null,
   "metadata": {},
   "outputs": [],
   "source": [
    "import re\n",
    "import numpy as np\n",
    "import pandas as pd\n",
    "import matplotlib.pyplot as plt\n",
    "import seaborn as sns\n",
    "\n",
    "from sklearn.linear_model import LogisticRegression\n",
    "from sklearn.ensemble import ExtraTreesClassifier\n",
    "from sklearn.ensemble import VotingClassifier\n",
    "from sklearn.svm import SVC\n",
    "\n",
    "from bs4 import BeautifulSoup\n",
    "from sklearn.decomposition import TruncatedSVD\n",
    "from sklearn.feature_extraction.text import TfidfVectorizer, CountVectorizer\n",
    "\n"
   ]
  },
  {
   "cell_type": "code",
   "execution_count": null,
   "metadata": {},
   "outputs": [],
   "source": [
    "\n",
    " #Czyścimy zbiór Danych z  niepotrzebnych linków itp i zastępujemy je sowami kluczowymi\n",
    "\n",
    "\n",
    "def cleanText(text):\n",
    "    text = BeautifulSoup(text, \"lxml\").text\n",
    "    text = re.sub(r'\\|\\|\\|', r' ', text) \n",
    "    text = re.sub(r'http\\S+', r'<URL>', text)\n",
    "    return text\n",
    "df['clean_posts'] = df['posts'].apply(cleanText)\n"
   ]
  },
  {
   "cell_type": "code",
   "execution_count": null,
   "metadata": {},
   "outputs": [],
   "source": [
    "XX = df['clean_posts'].values\n",
    "yy = df['type'].values\n",
    "\n",
    "print(XX.shape)\n",
    "print(yy.shape)\n",
    "\n",
    "from sklearn.model_selection import train_test_split\n",
    "X_train,X_test,y_train,y_test=train_test_split(XX,yy,test_size = 0.1, random_state=42)\n",
    "\n",
    "tfidf = TfidfVectorizer(ngram_range=(1, 1), stop_words='english')\n",
    "tsvd = TruncatedSVD(n_components=10)\n"
   ]
  },
  {
   "cell_type": "code",
   "execution_count": null,
   "metadata": {},
   "outputs": [],
   "source": [
    "#Przeprowadzamy Text Mining oraz Skalowanie danych i redukcje wymiarów\n",
    "\n",
    "TfidVect  = tfidf.fit_transform(X_train)\n",
    "svd_model = tsvd\n",
    "data_revitalised_train = svd_model.fit_transform(TfidVect)\n",
    "\n"
   ]
  },
  {
   "cell_type": "code",
   "execution_count": null,
   "metadata": {
    "scrolled": true
   },
   "outputs": [],
   "source": [
    "from sklearn.feature_extraction.text import CountVectorizer\n",
    "from yellowbrick.text import FreqDistVisualizer\n",
    "\n",
    "from sklearn.feature_extraction.text import CountVectorizer\n",
    "\n",
    "def Most_frequent_words_in_Group(types):\n",
    "    XXX = df['clean_posts'].loc[df[\"type\"] == types].values\n",
    "    \n",
    "    from matplotlib import cm\n",
    "\n",
    "    cnt_srs = df['type'].value_counts()\n",
    "    viridis = cm.get_cmap('plasma', 10)\n",
    "    colors = viridis(np.flip(np.linspace(0, 1, 10)))\n",
    "    \n",
    "    TfidVect  = tfidf.fit_transform(XXX)\n",
    "    svd_model = tsvd\n",
    "    data_revitalised = svd_model.fit_transform(TfidVect)\n",
    "    plt.figure(figsize = (10,10))\n",
    "\n",
    "    visualizer = FreqDistVisualizer(features=tfidf.get_feature_names(), orient='h',title =types, color = colors,n=10)\n",
    "    visualizer.fit(TfidVect)\n",
    "    #visualizer.title(types)\n",
    "    visualizer.show()\n",
    "    \n",
    "    \n",
    "    \n",
    "Most_frequent_words_in_Group('INFJ')\n",
    "Most_frequent_words_in_Group('ISTJ')\n",
    "Most_frequent_words_in_Group('ISFJ')\n",
    "Most_frequent_words_in_Group('INTJ')\n",
    "Most_frequent_words_in_Group('ISTP')\n",
    "Most_frequent_words_in_Group('ISFP')\n",
    "Most_frequent_words_in_Group('INFP')\n",
    "Most_frequent_words_in_Group('INTP')\n",
    "Most_frequent_words_in_Group('ESTP')\n",
    "Most_frequent_words_in_Group('ESFP')\n",
    "Most_frequent_words_in_Group('ESTJ')\n",
    "Most_frequent_words_in_Group('ENFP')\n",
    "Most_frequent_words_in_Group('ENTP')\n",
    "Most_frequent_words_in_Group('ESFJ')\n",
    "Most_frequent_words_in_Group('ENFJ')\n",
    "Most_frequent_words_in_Group('ENTJ')\n",
    "\n",
    "\n",
    "\n",
    "\n"
   ]
  },
  {
   "cell_type": "markdown",
   "metadata": {},
   "source": [
    "Analiza tfiDF wskazuje na podobne częstosci wystepywania tych samych słów  w poszczególnych Typach"
   ]
  },
  {
   "cell_type": "code",
   "execution_count": null,
   "metadata": {},
   "outputs": [],
   "source": [
    "XX = df['clean_posts'].values\n",
    "yy = df['type'].values\n",
    "\n",
    "print(XX.shape)\n",
    "print(yy.shape)\n",
    "\n",
    "from sklearn.model_selection import train_test_split\n",
    "X_train,X_test,y_train,y_test=train_test_split(XX,yy,test_size = 0.1, random_state=42)\n",
    "\n",
    "tfidf = TfidfVectorizer(ngram_range=(1, 1), stop_words='english')\n",
    "tsvd = TruncatedSVD(n_components=10)\n",
    "\n",
    "#Przeprowadzamy Text Mining oraz Skalowanie danych i redukcje wymiarów\n",
    "\n",
    "TfidVect  = tfidf.fit_transform(X_train)\n",
    "svd_model = tsvd\n",
    "data_revitalised_train = svd_model.fit_transform(TfidVect)\n",
    "\n",
    "TfidVect_test  = tfidf.fit_transform(X_test)\n",
    "svd_model_test = tsvd\n",
    "data_revitalised_test = svd_model_test.fit_transform(TfidVect_test)\n",
    "\n",
    "sm = SMOTE()\n",
    "X_train_res, y_train_res = sm.fit_sample(data_revitalised_train, y_train)\n"
   ]
  },
  {
   "cell_type": "code",
   "execution_count": null,
   "metadata": {},
   "outputs": [],
   "source": [
    "#Best Clssificators:\n",
    "\n",
    "Classif_res_Automatic_IE = ExtraTreesClassifier(max_leaf_nodes = 128, n_estimators = 1000)\n",
    "Classif_res_Automatic_IE.fit(X_train_res, y_train_res)\n",
    "\n",
    "from sklearn import metrics\n",
    "\n",
    "print(\"R^2: {}\".format(metrics.precision_score(y_test, Classif_res_Automatic_IE.predict(data_revitalised_test),average='macro') ))\n",
    "print(\"recall_score: {}\".format( metrics.recall_score(y_test, Classif_res_Automatic_IE.predict(data_revitalised_test),average='macro') ))\n",
    "print(\"f1_score: {}\".format( metrics.f1_score(y_test, Classif_res_Automatic_IE.predict(data_revitalised_test),average='macro') ))\n",
    "print(\"accuracy_score: {}\".format( metrics.accuracy_score(y_test, Classif_res_Automatic_IE.predict(data_revitalised_test)) ))"
   ]
  },
  {
   "cell_type": "code",
   "execution_count": null,
   "metadata": {},
   "outputs": [],
   "source": [
    "import seaborn as sn\n",
    "import pandas as pd\n",
    "import matplotlib.pyplot as plt\n",
    "array =metrics.confusion_matrix(y_test, Classif_res_Automatic_IE.predict(data_revitalised_test))\n",
    "\n",
    "personality_types = np.unique(y_test)\n",
    "\n",
    "df_cm = pd.DataFrame(array, index = [i for i in personality_types],\n",
    "                  columns = [i for i in personality_types])\n",
    "\n",
    "plt.figure(figsize = (15,15))\n",
    "heatmap(array, xlabel='True', xticklabels=personality_types, ylabel='Predicted', yticklabels=personality_types, cmap=\"plasma\")\n",
    "plt.show() "
   ]
  },
  {
   "cell_type": "markdown",
   "metadata": {},
   "source": [
    "Jak widać nie zdaje to Egzaminu:"
   ]
  },
  {
   "cell_type": "markdown",
   "metadata": {},
   "source": [
    "## Poszczególne Cechy --> Klasyfikacja z Resamplingiem!"
   ]
  },
  {
   "cell_type": "markdown",
   "metadata": {},
   "source": [
    "    Skoro typy osobowości nie wynikaja emergentnie z cech osobowosci, mozemy je analizować niezależnie. Sprawdźmy na ile uda nam sie zrobic klasyfikator poszczególnych Cech.\n",
    "    \n",
    "    Oznaczenia:\n",
    "    \n",
    "          Introwersja - 0  Ekstrawersja - 1\n",
    "          Intuition - 0  Sensing - 1\n",
    "          Thinking - 0  Feeling - 1\n",
    "          Judging - 0  Perceiving - 1\n",
    "          \n",
    "     Czemu tak? By klasy o mniejszym przydziale były klasą pozytywną, a tym samym zmienić postrzeganie Recall i Precision"
   ]
  },
  {
   "cell_type": "code",
   "execution_count": null,
   "metadata": {},
   "outputs": [],
   "source": [
    "map1 = {\"I\": 0, \"E\": 1}\n",
    "map2 = {\"N\": 0, \"S\": 1}\n",
    "map3 = {\"T\": 0, \"F\": 1}\n",
    "map4 = {\"J\": 0, \"P\": 1}\n",
    "df['I-E'] = df['type'].astype(str).str[0]\n",
    "df['I-E'] = df['I-E'].map(map1)\n",
    "df['N-S'] = df['type'].astype(str).str[1]\n",
    "df['N-S'] = df['N-S'].map(map2)\n",
    "df['T-F'] = df['type'].astype(str).str[2]\n",
    "df['T-F'] = df['T-F'].map(map3)\n",
    "df['J-P'] = df['type'].astype(str).str[3]\n",
    "df['J-P'] = df['J-P'].map(map4)\n",
    "df.head(10)"
   ]
  },
  {
   "cell_type": "code",
   "execution_count": null,
   "metadata": {},
   "outputs": [],
   "source": [
    "from matplotlib import cm\n",
    "\n",
    "cnt_srs = df['I-E'].value_counts()\n",
    "viridis = cm.get_cmap('plasma', 12)\n",
    "colors = viridis(np.flip(np.linspace(0, 1, 16)))\n",
    "plt.figure(figsize=(12,4))\n",
    "sns.barplot(cnt_srs.index, cnt_srs.values, alpha=0.8,palette=colors)\n",
    "plt.title('I-E')\n",
    "plt.ylabel('Number of Occurrences', fontsize=12)\n",
    "plt.xlabel('Types', fontsize=12)\n",
    "plt.show()\n",
    "\n",
    "from matplotlib import cm\n",
    "\n",
    "cnt_srs = df['N-S'].value_counts()\n",
    "viridis = cm.get_cmap('plasma', 12)\n",
    "colors = viridis(np.flip(np.linspace(0, 1, 16)))\n",
    "plt.figure(figsize=(12,4))\n",
    "sns.barplot(cnt_srs.index, cnt_srs.values, alpha=0.8,palette=colors)\n",
    "plt.title('N-S')\n",
    "plt.ylabel('Number of Occurrences', fontsize=12)\n",
    "plt.xlabel('Types', fontsize=12)\n",
    "plt.show()\n",
    "\n",
    "from matplotlib import cm\n",
    "\n",
    "cnt_srs = df['T-F'].value_counts()\n",
    "viridis = cm.get_cmap('plasma', 12)\n",
    "colors = viridis(np.flip(np.linspace(0, 1, 16)))\n",
    "plt.figure(figsize=(12,4))\n",
    "plt.title('T-F')\n",
    "sns.barplot(cnt_srs.index, cnt_srs.values, alpha=0.8,palette=colors)\n",
    "plt.ylabel('Number of Occurrences', fontsize=12)\n",
    "plt.xlabel('Types', fontsize=12)\n",
    "plt.show()\n",
    "\n",
    "from matplotlib import cm\n",
    "\n",
    "cnt_srs = df['J-P'].value_counts()\n",
    "viridis = cm.get_cmap('plasma', 12)\n",
    "colors = viridis(np.flip(np.linspace(0, 1, 16)))\n",
    "plt.figure(figsize=(12,4))\n",
    "plt.title('J-P')\n",
    "sns.barplot(cnt_srs.index, cnt_srs.values, alpha=0.8,palette=colors)\n",
    "plt.ylabel('Number of Occurrences', fontsize=12)\n",
    "plt.xlabel('Types', fontsize=12)\n",
    "plt.show()"
   ]
  },
  {
   "cell_type": "code",
   "execution_count": null,
   "metadata": {
    "scrolled": false
   },
   "outputs": [],
   "source": [
    "#Wizualizacja Razem --> pokazanie że średnie są niemalże identyczne ==> słaba rozpoznawalność\n",
    "\n",
    "def wykres_osobowosci_razem_2(od_czego,do_czego='type'):\n",
    "    from matplotlib import cm\n",
    "  \n",
    "    viridis = cm.get_cmap('plasma', 12)\n",
    "    colors = viridis(np.linspace(0, 1, 12))\n",
    "    colors2 = colors[[8,10],:]\n",
    "    typ_osobow = np.unique(df[do_czego])\n",
    "    plt.figure(figsize = (10,10))\n",
    "   # cmap = ['b', 'g', 'r', 'c', 'm', 'y', 'k', 'w','b', 'g', 'r', 'c', 'm', 'y', 'k', 'w']\n",
    "    for i in range(len(typ_osobow)):\n",
    "        if typ_osobow[i] ==0:\n",
    "            plt.axvline(x=np.mean(df[od_czego].loc[df[do_czego]==typ_osobow[i]]),color=colors[0])\n",
    "        else:\n",
    "            plt.axvline(x=np.mean(df[od_czego].loc[df[do_czego]==typ_osobow[i]]),color=colors[6])\n",
    "    \n",
    "        plt.hist(df[od_czego].loc[df[do_czego]==typ_osobow[i]],bins=25,color=colors2[i])\n",
    "        plt.xlabel(\"per post\")\n",
    "        plt.ylabel(\"Number of records\")\n",
    "\n",
    "        plt.title(od_czego)\n",
    "        #print(\"{}: {}\".format(typ_osobow[i],np.mean(df[od_czego].loc[df['type']==typ_osobow[i]])))\n",
    "    plt.legend(typ_osobow)\n",
    "    plt.show\n",
    "\n",
    "\n",
    "\n",
    "wykres_osobowosci_razem_2('words_per_post',do_czego='I-E')\n",
    "wykres_osobowosci_razem_2('... per Post',do_czego='I-E')\n",
    "wykres_osobowosci_razem_2('jpg per Post',do_czego='I-E')\n",
    "wykres_osobowosci_razem_2('music per Post',do_czego='I-E')\n",
    "wykres_osobowosci_razem_2('http per Post',do_czego='I-E')\n",
    "wykres_osobowosci_razem_2('I per Post',do_czego='I-E')"
   ]
  },
  {
   "cell_type": "code",
   "execution_count": null,
   "metadata": {
    "scrolled": true
   },
   "outputs": [],
   "source": [
    "wykres_osobowosci_razem_2('words_per_post',do_czego='N-S')\n",
    "wykres_osobowosci_razem_2('... per Post',do_czego='N-S')\n",
    "wykres_osobowosci_razem_2('jpg per Post',do_czego='N-S')\n",
    "wykres_osobowosci_razem_2('music per Post',do_czego='N-S')\n",
    "wykres_osobowosci_razem_2('http per Post',do_czego='N-S')\n",
    "wykres_osobowosci_razem_2('I per Post',do_czego='N-S')"
   ]
  },
  {
   "cell_type": "code",
   "execution_count": null,
   "metadata": {},
   "outputs": [],
   "source": [
    "wykres_osobowosci_razem_2('words_per_post',do_czego='T-F')\n",
    "wykres_osobowosci_razem_2('... per Post',do_czego='T-F')\n",
    "wykres_osobowosci_razem_2('jpg per Post',do_czego='T-F')\n",
    "wykres_osobowosci_razem_2('music per Post',do_czego='T-F')\n",
    "wykres_osobowosci_razem_2('http per Post',do_czego='T-F')\n",
    "wykres_osobowosci_razem_2('I per Post',do_czego='T-F')"
   ]
  },
  {
   "cell_type": "code",
   "execution_count": null,
   "metadata": {},
   "outputs": [],
   "source": [
    "wykres_osobowosci_razem_2('words_per_post',do_czego='J-P')\n",
    "wykres_osobowosci_razem_2('... per Post',do_czego='J-P')\n",
    "wykres_osobowosci_razem_2('jpg per Post',do_czego='J-P')\n",
    "wykres_osobowosci_razem_2('music per Post',do_czego='J-P')\n",
    "wykres_osobowosci_razem_2('http per Post',do_czego='J-P')\n",
    "wykres_osobowosci_razem_2('I per Post',do_czego='J-P')"
   ]
  },
  {
   "cell_type": "code",
   "execution_count": null,
   "metadata": {},
   "outputs": [],
   "source": [
    "def wykres_osobowosci_rozdzielon(od_czego,do_czego,ticks=(0,5,10,15,20,25,30,35),yticks = [0,100,200,300,400,500,600,700,800]):\n",
    "    from matplotlib import cm\n",
    "    viridis = cm.get_cmap('plasma', 12)\n",
    "    colors = viridis(np.linspace(0, 1, 16))\n",
    "    typ_osobow = np.unique(df[do_czego])\n",
    "    print(do_czego)\n",
    "    fig,axes = plt.subplots(1,2,figsize=(8,8))\n",
    "    for i,ax in zip(range(len(typ_osobow)),axes.ravel()):\n",
    "        ax.hist(df[od_czego].loc[df[do_czego]==typ_osobow[i]],bins=25,color=colors[12])\n",
    "        ax.axvline(x=np.mean(df[od_czego].loc[df[do_czego]==typ_osobow[i]]),color=colors[4])\n",
    "        ax.set_xticks(ticks)\n",
    "        ax.set_yticks(yticks)\n",
    "        ax.set_xlabel(\"per post\")\n",
    "        ax.set_ylabel(\"Number of records\")\n",
    "        ax.title.set_text(typ_osobow[i])\n",
    "        print(\"{}: {}\".format(typ_osobow[i],np.mean(df[od_czego].loc[df[do_czego]==typ_osobow[i]])))\n",
    "    plt.show\n",
    "\n",
    "warunki_osobow = ['I-E','N-S','T-F','J-P']        \n",
    "for j in warunki_osobow:\n",
    "    wykres_osobowosci_rozdzielon('words_per_post',j)"
   ]
  },
  {
   "cell_type": "code",
   "execution_count": null,
   "metadata": {},
   "outputs": [],
   "source": [
    "warunki_osobow = ['I-E','N-S','T-F','J-P']        \n",
    "for j in warunki_osobow:\n",
    "    wykres_osobowosci_rozdzielon('http per Post',j,ticks = [0,0.15,0.3,0.45,0.6,0.75,0.9,1.05,1.2,1.35],yticks = (0,500,1000,1500,2000,3000,3500,4000,4500,5000))"
   ]
  },
  {
   "cell_type": "code",
   "execution_count": null,
   "metadata": {},
   "outputs": [],
   "source": [
    "warunki_osobow = ['I-E','N-S','T-F','J-P']        \n",
    "for j in warunki_osobow:\n",
    "    wykres_osobowosci_rozdzielon('... per Post',j,ticks=(0.0,0.5,1.0,1.5,2.0,2.5,3.0), yticks = [0,200,400,600,800,1000,1200,1400,1600,1800,2000])"
   ]
  },
  {
   "cell_type": "code",
   "execution_count": null,
   "metadata": {},
   "outputs": [],
   "source": [
    "warunki_osobow = ['I-E','N-S','T-F','J-P']        \n",
    "for j in warunki_osobow:\n",
    "    wykres_osobowosci_rozdzielon('music per Post',j,ticks=(0.0,0.05,0.1,0.15,0.2,0.25,0.3,0.35),yticks = [0,400,800,1200,1600,2000,2400,2800,3200,3600,4000])"
   ]
  },
  {
   "cell_type": "code",
   "execution_count": null,
   "metadata": {},
   "outputs": [],
   "source": [
    "warunki_osobow = ['I-E','N-S','T-F','J-P']        \n",
    "for j in warunki_osobow:\n",
    "    wykres_osobowosci_rozdzielon('jpg per Post',j,ticks=(0.0,0.05,0.1,0.15,0.2,0.25,0.3,0.35,0.4,0.45),yticks = [0,500,1000,1500,2000,2500,3000,3500,4000,4500,5000])"
   ]
  },
  {
   "cell_type": "code",
   "execution_count": null,
   "metadata": {},
   "outputs": [],
   "source": [
    "warunki_osobow = ['I-E','N-S','T-F','J-P']        \n",
    "for j in warunki_osobow:\n",
    "    wykres_osobowosci_rozdzielon('I per Post',j,ticks=(0.0,1,2,3,4,5,6))"
   ]
  },
  {
   "cell_type": "markdown",
   "metadata": {},
   "source": [
    "Zobaczmy jeszcze jak wygląda ilość słów w poszczególnych grupach"
   ]
  },
  {
   "cell_type": "code",
   "execution_count": null,
   "metadata": {},
   "outputs": [],
   "source": [
    "from sklearn.feature_extraction.text import CountVectorizer\n",
    "from yellowbrick.text import FreqDistVisualizer\n",
    "\n",
    "def Most_frequent_words_in_Group(types,pyte='type'):\n",
    "    XXX = df['posts'].loc[df[pyte] == types].values\n",
    "\n",
    "    from matplotlib import cm\n",
    "\n",
    "    cnt_srs = df['type'].value_counts()\n",
    "    viridis = cm.get_cmap('plasma', 10)\n",
    "    colors = viridis(np.flip(np.linspace(0, 1, 10)))\n",
    "    \n",
    "    \n",
    "    TfidVect  = tfidf.fit_transform(XXX)\n",
    "    svd_model = tsvd\n",
    "    data_revitalised = svd_model.fit_transform(TfidVect)\n",
    "    plt.figure(figsize = (10,10))\n",
    "    visualizer = FreqDistVisualizer(features=tfidf.get_feature_names(), orient='h',title =types, color = colors,n=10)\n",
    "    visualizer.fit(TfidVect)\n",
    "    #visualizer.title(types)\n",
    "    visualizer.show()\n",
    "    \n",
    "    \n",
    "print('I-E')    \n",
    "Most_frequent_words_in_Group(0,pyte = 'I-E')\n",
    "Most_frequent_words_in_Group(1,'I-E')\n",
    "print('N-S')  \n",
    "Most_frequent_words_in_Group(0,'N-S')\n",
    "Most_frequent_words_in_Group(1,'N-S')\n",
    "print('T-F')  \n",
    "Most_frequent_words_in_Group(0,'T-F')\n",
    "Most_frequent_words_in_Group(1,'T-F')\n",
    "print('J-P')  \n",
    "Most_frequent_words_in_Group(0,'J-P')\n",
    "Most_frequent_words_in_Group(1,'J-P')"
   ]
  },
  {
   "cell_type": "markdown",
   "metadata": {},
   "source": [
    "**PCA - okazało się zbędne** -- Przeprowdzono również PCA dla każdego z modeli, niestety rezultaty okazały się gorsze"
   ]
  },
  {
   "cell_type": "markdown",
   "metadata": {},
   "source": [
    "### Klasyfikacja I-E "
   ]
  },
  {
   "cell_type": "code",
   "execution_count": null,
   "metadata": {},
   "outputs": [],
   "source": [
    "#Czyścimy zbiór Danych z  niepotrzebnych linków itp.\n",
    "\n",
    "from sklearn.svm import SVC\n",
    "from sklearn.linear_model import LogisticRegression\n",
    "from sklearn.ensemble import VotingClassifier\n",
    "from sklearn.ensemble import ExtraTreesClassifier\n",
    "from sklearn import metrics\n",
    "\n",
    "from bs4 import BeautifulSoup\n",
    "from sklearn.decomposition import TruncatedSVD\n",
    "from sklearn.feature_extraction.text import TfidfVectorizer, CountVectorizer\n",
    "\n",
    "\n",
    "def cleanText(text):\n",
    "    text = BeautifulSoup(text, \"lxml\").text\n",
    "    text = re.sub(r'\\|\\|\\|', r' ', text) \n",
    "    text = re.sub(r'http\\S+', r'<URL>', text)\n",
    "    return text\n",
    "df['clean_posts'] = df['posts'].apply(cleanText)\n"
   ]
  },
  {
   "cell_type": "code",
   "execution_count": null,
   "metadata": {},
   "outputs": [],
   "source": [
    "XX = df['clean_posts'].values\n",
    "yy = df['I-E'].values\n",
    "\n",
    "print(XX.shape)\n",
    "print(yy.shape)\n",
    "\n",
    "from sklearn.model_selection import train_test_split\n",
    "X_train,X_test,y_train,y_test=train_test_split(XX,yy,test_size = 0.1, random_state=42)\n",
    "\n",
    "#Przeprowadzamy Text Mining oraz Skalowanie danych i redukcje wymiarów\n",
    "\n",
    "tfidf = TfidfVectorizer(ngram_range=(1, 1), stop_words='english')\n",
    "tsvd = TruncatedSVD(n_components=10)\n",
    "\n",
    "TfidVect  = tfidf.fit_transform(X_train)\n",
    "svd_model = tsvd\n",
    "data_revitalised = svd_model.fit_transform(TfidVect)\n",
    "\n",
    "TfidVect_test  = tfidf.fit_transform(X_test)\n",
    "svd_model_test = tsvd\n",
    "data_revitalised_test = svd_model_test.fit_transform(TfidVect_test)\n",
    "\n",
    "\n",
    "from imblearn.over_sampling import SMOTE\n",
    "\n",
    "sm = SMOTE()\n",
    "X_train_res_aut, y_train_res_aut = sm.fit_sample(data_revitalised, y_train)\n"
   ]
  },
  {
   "cell_type": "markdown",
   "metadata": {},
   "source": [
    "#####  Klasyfikator 1 --> SVC"
   ]
  },
  {
   "cell_type": "code",
   "execution_count": null,
   "metadata": {},
   "outputs": [],
   "source": [
    "from sklearn.svm import SVC\n",
    "from sklearn.linear_model import LogisticRegression\n",
    "from sklearn.ensemble import VotingClassifier\n",
    "from sklearn.ensemble import ExtraTreesClassifier\n",
    "from sklearn import metrics\n",
    "\n",
    "svmIE = SVC(kernel = 'rbf', C = 1, gamma = 100,probability = True)\n",
    "svmIE.fit(X_train_res_aut,y_train_res_aut)\n",
    "\n",
    "\n"
   ]
  },
  {
   "cell_type": "code",
   "execution_count": null,
   "metadata": {},
   "outputs": [],
   "source": [
    "import seaborn as sn\n",
    "import pandas as pd\n",
    "import matplotlib.pyplot as plt\n",
    "from sklearn import metrics\n",
    "\n",
    "\n",
    "array =metrics.confusion_matrix(y_test, svmIE.predict(data_revitalised_test))\n",
    "\n",
    "personality_types = np.unique(y_test)\n",
    "\n",
    "df_cm = pd.DataFrame(array, index = [i for i in personality_types],\n",
    "                  columns = [i for i in personality_types])\n",
    "\n",
    "plt.figure(figsize = (7,7))\n",
    "heatmap(array, xlabel='True', xticklabels=personality_types, ylabel='Predicted', yticklabels=personality_types, cmap=\"plasma\")\n",
    "plt.show()"
   ]
  },
  {
   "cell_type": "code",
   "execution_count": null,
   "metadata": {},
   "outputs": [],
   "source": [
    "from sklearn import metrics\n",
    "\n",
    "print(\"R^2: {}\".format(metrics.precision_score(y_test, svmIE.predict(data_revitalised_test),average='macro') ))\n",
    "print(\"precision: {}\".format(metrics.recall_score(y_test, svmIE.predict(data_revitalised_test),average='macro') ))\n",
    "print(\"recall_score: {}\".format( metrics.recall_score(y_test, svmIE.predict(data_revitalised_test),average='macro') ))\n",
    "print(\"f1_score: {}\".format( metrics.f1_score(y_test, svmIE.predict(data_revitalised_test),average='macro') ))\n",
    "print(\"accuracy_score: {}\".format( metrics.accuracy_score(y_test, svmIE.predict(data_revitalised_test)) ))"
   ]
  },
  {
   "cell_type": "code",
   "execution_count": null,
   "metadata": {},
   "outputs": [],
   "source": [
    "y_score = svmIE.decision_function(data_revitalised_test)\n",
    "from sklearn.metrics import average_precision_score\n",
    "average_precision = average_precision_score(y_test, y_score)\n",
    "\n",
    "print('Average precision-recall score: {0:0.2f}'.format(\n",
    "      average_precision))\n",
    "\n",
    "from sklearn.metrics import precision_recall_curve\n",
    "from sklearn.metrics import plot_precision_recall_curve\n",
    "import matplotlib.pyplot as plt\n",
    "\n",
    "disp = plot_precision_recall_curve(svmIE, data_revitalised_test, y_test)\n",
    "disp.ax_.set_title('2-class Precision-Recall curve: '\n",
    "                   'AP={0:0.2f}'.format(average_precision))"
   ]
  },
  {
   "cell_type": "markdown",
   "metadata": {},
   "source": [
    "#####  Klasyfikator 2 --> Extra Trees Classifier"
   ]
  },
  {
   "cell_type": "code",
   "execution_count": null,
   "metadata": {},
   "outputs": [],
   "source": [
    "from sklearn.svm import SVC\n",
    "from sklearn.linear_model import LogisticRegression\n",
    "from sklearn.ensemble import VotingClassifier\n",
    "from sklearn.ensemble import ExtraTreesClassifier\n",
    "from sklearn import metrics\n",
    "\n",
    "RNDIE = ExtraTreesClassifier(max_leaf_nodes = 64, n_estimators =1000)\n",
    "RNDIE.fit(X_train_res_aut,y_train_res_aut)\n"
   ]
  },
  {
   "cell_type": "code",
   "execution_count": null,
   "metadata": {},
   "outputs": [],
   "source": [
    "from sklearn import metrics\n",
    "import seaborn as sn\n",
    "import pandas as pd\n",
    "import matplotlib.pyplot as plt\n",
    "array =metrics.confusion_matrix(y_test, RNDIE.predict(data_revitalised_test))\n",
    "\n",
    "personality_types = np.unique(y_test)\n",
    "\n",
    "df_cm = pd.DataFrame(array, index = [i for i in personality_types],\n",
    "                  columns = [i for i in personality_types])\n",
    "\n",
    "plt.figure(figsize = (7,7))\n",
    "heatmap(array, xlabel='True', xticklabels=personality_types, ylabel='Predicted', yticklabels=personality_types, cmap=\"plasma\")\n",
    "plt.show()"
   ]
  },
  {
   "cell_type": "code",
   "execution_count": null,
   "metadata": {},
   "outputs": [],
   "source": [
    "from sklearn import metrics\n",
    "\n",
    "print(\"R^2: {}\".format(metrics.precision_score(y_test, RNDIE.predict(data_revitalised_test),average='macro') ))\n",
    "print(\"precision: {}\".format(metrics.recall_score(y_test, RNDIE.predict(data_revitalised_test),average='macro') ))\n",
    "print(\"recall_score: {}\".format( metrics.recall_score(y_test, RNDIE.predict(data_revitalised_test),average='macro') ))\n",
    "print(\"f1_score: {}\".format( metrics.f1_score(y_test, RNDIE.predict(data_revitalised_test),average='macro') ))\n",
    "print(\"accuracy_score: {}\".format( metrics.accuracy_score(y_test, RNDIE.predict(data_revitalised_test)) ))"
   ]
  },
  {
   "cell_type": "markdown",
   "metadata": {},
   "source": [
    "#####  Klasyfikator 3 (Najlepszy) --> Voting Obu"
   ]
  },
  {
   "cell_type": "code",
   "execution_count": null,
   "metadata": {},
   "outputs": [],
   "source": [
    "from sklearn.svm import SVC\n",
    "from sklearn.linear_model import LogisticRegression\n",
    "from sklearn.ensemble import VotingClassifier\n",
    "from sklearn.ensemble import ExtraTreesClassifier\n",
    "from sklearn import metrics\n",
    "\n",
    "voting_clf_IE = VotingClassifier(\n",
    "    estimators=[('lr', svmIE), ('svc', RNDIE)], voting='soft')\n",
    "voting_clf_IE.fit(X_train_res_aut, y_train_res_aut)"
   ]
  },
  {
   "cell_type": "code",
   "execution_count": null,
   "metadata": {},
   "outputs": [],
   "source": [
    "\n",
    "from sklearn import metrics\n",
    "import seaborn as sn\n",
    "import pandas as pd\n",
    "import matplotlib.pyplot as plt\n",
    "array =metrics.confusion_matrix(y_test, voting_clf_IE.predict(data_revitalised_test))\n",
    "\n",
    "personality_types = np.unique(y_test)\n",
    "\n",
    "df_cm = pd.DataFrame(array, index = [i for i in personality_types],\n",
    "                  columns = [i for i in personality_types])\n",
    "\n",
    "plt.figure(figsize = (7,7))\n",
    "heatmap(array, xlabel='True', xticklabels=personality_types, ylabel='Predicted', yticklabels=personality_types, cmap=\"plasma\")\n",
    "plt.show()"
   ]
  },
  {
   "cell_type": "code",
   "execution_count": null,
   "metadata": {},
   "outputs": [],
   "source": [
    "print(\"R^2: {}\".format(metrics.precision_score(y_test, voting_clf_IE.predict(data_revitalised_test),average='macro') ))\n",
    "print(\"precision: {}\".format(metrics.recall_score(y_test, voting_clf_IE.predict(data_revitalised_test),average='macro') ))\n",
    "print(\"recall_score: {}\".format( metrics.recall_score(y_test, voting_clf_IE.predict(data_revitalised_test),average='macro') ))\n",
    "print(\"f1_score: {}\".format( metrics.f1_score(y_test, voting_clf_IE.predict(data_revitalised_test),average='macro') ))\n",
    "print(\"accuracy_score: {}\".format( metrics.accuracy_score(y_test, voting_clf_IE.predict(data_revitalised_test)) ))"
   ]
  },
  {
   "cell_type": "code",
   "execution_count": null,
   "metadata": {},
   "outputs": [],
   "source": [
    "from sklearn import metrics\n",
    "\n",
    "R2 = []\n",
    "Precision = []\n",
    "Recall = []\n",
    "F1 = []\n",
    "Accuracy = []\n",
    "\n",
    "R2.append(metrics.precision_score(y_test, voting_clf_IE.predict(data_revitalised_test),average='macro'))\n",
    "Precision.append(metrics.recall_score(y_test, voting_clf_IE.predict(data_revitalised_test),average='macro'))\n",
    "Recall.append( metrics.recall_score(y_test, voting_clf_IE.predict(data_revitalised_test),average='macro'))\n",
    "F1.append(metrics.f1_score(y_test, voting_clf_IE.predict(data_revitalised_test),average='macro'))\n",
    "Accuracy.append(metrics.accuracy_score(y_test, voting_clf_IE.predict(data_revitalised_test)))"
   ]
  },
  {
   "cell_type": "code",
   "execution_count": null,
   "metadata": {},
   "outputs": [],
   "source": [
    "import pandas as pd\n",
    "d = {'precision_score': Precision, \n",
    "     'recall_score': Recall, \n",
    "     'f1_score': F1,\n",
    "     'accuracy_score' : Accuracy,\n",
    "     'R2_score': R2\n",
    "    }\n",
    "df_wyniki = pd.DataFrame(data=d)\n",
    "df_wyniki.insert(loc=0, column='Method', value=['IE'])\n",
    "df_wyniki"
   ]
  },
  {
   "cell_type": "markdown",
   "metadata": {},
   "source": [
    "### Klasyfikacja N-S z Resamplingiem"
   ]
  },
  {
   "cell_type": "code",
   "execution_count": null,
   "metadata": {},
   "outputs": [],
   "source": [
    "import pandas as pd\n",
    "import numpy as np\n",
    "from sklearn.feature_selection import SelectKBest\n",
    "from sklearn.feature_selection import f_classif\n",
    "from sklearn.feature_selection import chi2\n",
    "\n",
    "\n",
    "XX = df.drop(['type','posts','I-E','N-S','T-F','J-P','clean_posts'], axis=1).values\n",
    "yy = df['N-S'].values\n",
    "\n",
    "from sklearn.model_selection import train_test_split\n",
    "X_train,X_test,y_train,y_test=train_test_split(XX,yy,test_size = 0.1, random_state=42)\n",
    "\n",
    "sm = SMOTE()\n",
    "X_train_res, y_train_res = sm.fit_sample(X_train, y_train)"
   ]
  },
  {
   "cell_type": "markdown",
   "metadata": {},
   "source": [
    "#####  Klasyfikator 1 --> SVC"
   ]
  },
  {
   "cell_type": "code",
   "execution_count": null,
   "metadata": {},
   "outputs": [],
   "source": [
    "from sklearn.svm import SVC\n",
    "from sklearn.linear_model import LogisticRegression\n",
    "from sklearn.ensemble import VotingClassifier\n",
    "from sklearn.ensemble import ExtraTreesClassifier\n",
    "from sklearn import metrics\n",
    "\n",
    "svmNS2 = SVC(kernel = 'rbf', C =10, gamma = 100,probability = True)\n",
    "svmNS2.fit(X_train_res,y_train_res)\n"
   ]
  },
  {
   "cell_type": "code",
   "execution_count": null,
   "metadata": {},
   "outputs": [],
   "source": [
    "\n",
    "from sklearn import metrics\n",
    "import seaborn as sn\n",
    "import pandas as pd\n",
    "import matplotlib.pyplot as plt\n",
    "array =metrics.confusion_matrix(y_test, svmNS2.predict(X_test))\n",
    "\n",
    "personality_types = np.unique(y_test)\n",
    "\n",
    "df_cm = pd.DataFrame(array, index = [i for i in personality_types],\n",
    "                  columns = [i for i in personality_types])\n",
    "\n",
    "plt.figure(figsize = (7,7))\n",
    "heatmap(array, xlabel='True', xticklabels=personality_types, ylabel='Predicted', yticklabels=personality_types, cmap=\"plasma\")\n",
    "plt.show()"
   ]
  },
  {
   "cell_type": "code",
   "execution_count": null,
   "metadata": {},
   "outputs": [],
   "source": [
    "\n",
    "from sklearn import metrics\n",
    "\n",
    "print(\"R^2: {}\".format(metrics.precision_score(y_test, svmNS2.predict(X_test),average='macro') ))\n",
    "print(\"precision: {}\".format(metrics.recall_score(y_test, svmNS2.predict(X_test),average='macro') ))\n",
    "print(\"recall_score: {}\".format( metrics.recall_score(y_test, svmNS2.predict(X_test),average='macro') ))\n",
    "print(\"f1_score: {}\".format( metrics.f1_score(y_test, svmNS2.predict(X_test),average='macro') ))\n",
    "print(\"accuracy_score: {}\".format( metrics.accuracy_score(y_test, svmNS2.predict(X_test)) ))"
   ]
  },
  {
   "cell_type": "code",
   "execution_count": null,
   "metadata": {
    "scrolled": false
   },
   "outputs": [],
   "source": [
    "y_score = svmNS2.decision_function(X_test)\n",
    "from sklearn.metrics import average_precision_score\n",
    "average_precision = average_precision_score(y_test, y_score)\n",
    "\n",
    "print('Average precision-recall score: {0:0.2f}'.format(\n",
    "      average_precision))\n",
    "\n",
    "from sklearn.metrics import precision_recall_curve\n",
    "from sklearn.metrics import plot_precision_recall_curve\n",
    "import matplotlib.pyplot as plt\n",
    "\n",
    "disp = plot_precision_recall_curve(svmNS2, X_test, y_test)\n",
    "disp.ax_.set_title('2-class Precision-Recall curve: '\n",
    "                   'AP={0:0.2f}'.format(average_precision))"
   ]
  },
  {
   "cell_type": "markdown",
   "metadata": {},
   "source": [
    "#####  Klasyfikator 2--> Extra Trees Classifier"
   ]
  },
  {
   "cell_type": "code",
   "execution_count": null,
   "metadata": {},
   "outputs": [],
   "source": [
    "from sklearn.svm import SVC\n",
    "from sklearn.linear_model import LogisticRegression\n",
    "from sklearn.ensemble import VotingClassifier\n",
    "from sklearn.ensemble import ExtraTreesClassifier\n",
    "from sklearn import metrics\n",
    "\n",
    "RNDNS = ExtraTreesClassifier(max_leaf_nodes = 64, n_estimators =1000)\n",
    "RNDNS.fit(X_train_res,y_train_res)\n"
   ]
  },
  {
   "cell_type": "code",
   "execution_count": null,
   "metadata": {},
   "outputs": [],
   "source": [
    "\n",
    "from sklearn import metrics\n",
    "import seaborn as sn\n",
    "import pandas as pd\n",
    "import matplotlib.pyplot as plt\n",
    "array =metrics.confusion_matrix(y_test, RNDNS.predict(X_test))\n",
    "\n",
    "personality_types = np.unique(y_test)\n",
    "\n",
    "df_cm = pd.DataFrame(array, index = [i for i in personality_types],\n",
    "                  columns = [i for i in personality_types])\n",
    "\n",
    "plt.figure(figsize = (7,7))\n",
    "heatmap(array, xlabel='True', xticklabels=personality_types, ylabel='Predicted', yticklabels=personality_types, cmap=\"plasma\")\n",
    "plt.show()\n"
   ]
  },
  {
   "cell_type": "code",
   "execution_count": null,
   "metadata": {
    "scrolled": true
   },
   "outputs": [],
   "source": [
    "\n",
    "from sklearn import metrics\n",
    "\n",
    "print(\"R^2: {}\".format(metrics.precision_score(y_test, RNDNS.predict(X_test),average='macro') ))\n",
    "print(\"precision: {}\".format(metrics.recall_score(y_test, RNDNS.predict(X_test),average='macro') ))\n",
    "print(\"recall_score: {}\".format( metrics.recall_score(y_test, RNDNS.predict(X_test),average='macro') ))\n",
    "print(\"f1_score: {}\".format( metrics.f1_score(y_test, RNDNS.predict(X_test),average='macro') ))\n",
    "print(\"accuracy_score: {}\".format( metrics.accuracy_score(y_test, RNDNS.predict(X_test)) ))"
   ]
  },
  {
   "cell_type": "markdown",
   "metadata": {},
   "source": [
    "#####  Klasyfikator 3 (Najlepszy) --> Voting"
   ]
  },
  {
   "cell_type": "code",
   "execution_count": null,
   "metadata": {},
   "outputs": [],
   "source": [
    "from sklearn.svm import SVC\n",
    "from sklearn.linear_model import LogisticRegression\n",
    "from sklearn.ensemble import VotingClassifier\n",
    "from sklearn.ensemble import ExtraTreesClassifier\n",
    "from sklearn import metrics\n",
    "\n",
    "voting_clf = VotingClassifier(\n",
    "    estimators=[('lr', svmNS2), ('svc', RNDNS)], voting='soft')\n",
    "voting_clf.fit(X_train_res, y_train_res)\n",
    "\n"
   ]
  },
  {
   "cell_type": "code",
   "execution_count": null,
   "metadata": {},
   "outputs": [],
   "source": [
    "\n",
    "from sklearn import metrics\n",
    "\n",
    "print(\"R^2: {}\".format(metrics.precision_score(y_test, voting_clf.predict(X_test),average='macro') ))\n",
    "print(\"precision: {}\".format(metrics.recall_score(y_test, voting_clf.predict(X_test),average='macro') ))\n",
    "print(\"recall_score: {}\".format( metrics.recall_score(y_test, voting_clf.predict(X_test),average='macro') ))\n",
    "print(\"f1_score: {}\".format( metrics.f1_score(y_test, voting_clf.predict(X_test),average='macro') ))\n",
    "print(\"accuracy_score: {}\".format( metrics.accuracy_score(y_test, voting_clf.predict(X_test)) ))"
   ]
  },
  {
   "cell_type": "code",
   "execution_count": null,
   "metadata": {},
   "outputs": [],
   "source": [
    "\n",
    "from sklearn import metrics\n",
    "\n",
    "import seaborn as sn\n",
    "import pandas as pd\n",
    "import matplotlib.pyplot as plt\n",
    "array =metrics.confusion_matrix(y_test, voting_clf.predict(X_test))\n",
    "\n",
    "personality_types = np.unique(y_test)\n",
    "\n",
    "df_cm = pd.DataFrame(array, index = [i for i in personality_types],\n",
    "                  columns = [i for i in personality_types])\n",
    "\n",
    "plt.figure(figsize = (7,7))\n",
    "heatmap(array, xlabel='True', xticklabels=personality_types, ylabel='Predicted', yticklabels=personality_types, cmap=\"plasma\")\n",
    "plt.show() "
   ]
  },
  {
   "cell_type": "code",
   "execution_count": null,
   "metadata": {},
   "outputs": [],
   "source": [
    "\n",
    "R2.append(metrics.precision_score(y_test, voting_clf.predict(X_test),average='macro'))\n",
    "Precision.append(metrics.recall_score(y_test, voting_clf.predict(X_test),average='macro'))\n",
    "Recall.append( metrics.recall_score(y_test, voting_clf.predict(X_test),average='macro'))\n",
    "F1.append(metrics.f1_score(y_test, voting_clf.predict(X_test),average='macro'))\n",
    "Accuracy.append(metrics.accuracy_score(y_test, voting_clf.predict(X_test)))\n",
    "\n",
    "import pandas as pd\n",
    "d = {'precision_score': Precision, \n",
    "     'recall_score': Recall, \n",
    "     'f1_score': F1,\n",
    "     'accuracy_score' : Accuracy,\n",
    "     'R2_score': R2\n",
    "    }\n",
    "df_wyniki = pd.DataFrame(data=d)\n",
    "df_wyniki.insert(loc=0, column='Method', value=['IE','NS'])\n",
    "df_wyniki"
   ]
  },
  {
   "cell_type": "markdown",
   "metadata": {},
   "source": [
    "### Klasyfikacja T-F z Resamplingiem"
   ]
  },
  {
   "cell_type": "code",
   "execution_count": null,
   "metadata": {},
   "outputs": [],
   "source": [
    "import pandas as pd\n",
    "import numpy as np\n",
    "from sklearn.feature_selection import SelectKBest\n",
    "from sklearn.feature_selection import f_classif\n",
    "from sklearn.feature_selection import chi2\n",
    "from imblearn.over_sampling import SMOTE\n",
    "\n",
    "XX = df.drop(['type','posts','I-E','N-S','T-F','J-P','clean_posts'], axis=1).values\n",
    "yy = df['T-F'].values\n",
    "\n",
    "from sklearn.model_selection import train_test_split\n",
    "X_train,X_test_norm,y_train,y_test_norm=train_test_split(XX,yy,test_size = 0.1, random_state=42)\n",
    "\n",
    "sm = SMOTE()\n",
    "X_train_res, y_train_res = sm.fit_sample(X_train, y_train)"
   ]
  },
  {
   "cell_type": "markdown",
   "metadata": {},
   "source": [
    "#####  Klasyfikator 1 --> Regresja Logistyczna"
   ]
  },
  {
   "cell_type": "code",
   "execution_count": null,
   "metadata": {
    "scrolled": true
   },
   "outputs": [],
   "source": [
    "from sklearn.svm import SVC\n",
    "from sklearn.linear_model import LogisticRegression\n",
    "from sklearn.ensemble import VotingClassifier\n",
    "from sklearn.ensemble import ExtraTreesClassifier\n",
    "from sklearn import metrics\n",
    "\n",
    "LogRegTF2 = LogisticRegression(penalty = 'l2', C =100)\n",
    "LogRegTF2.fit(X_train_res,y_train_res)\n",
    "\n",
    "import seaborn as sn\n",
    "import pandas as pd\n",
    "import matplotlib.pyplot as plt\n",
    "array =metrics.confusion_matrix(y_test_norm, LogRegTF2.predict(X_test_norm))\n",
    "\n",
    "personality_types = np.unique(y_test_norm)\n",
    "\n",
    "df_cm = pd.DataFrame(array, index = [i for i in personality_types],\n",
    "                  columns = [i for i in personality_types])\n",
    "\n",
    "plt.figure(figsize = (7,7))\n",
    "heatmap(array, xlabel='True', xticklabels=personality_types, ylabel='Predicted', yticklabels=personality_types, cmap=\"plasma\")\n",
    "plt.show()\n"
   ]
  },
  {
   "cell_type": "code",
   "execution_count": null,
   "metadata": {},
   "outputs": [],
   "source": [
    "\n",
    "from sklearn import metrics\n",
    "\n",
    "print(\"R^2: {}\".format(metrics.precision_score(y_test_norm, LogRegTF2.predict(X_test_norm),average='macro') ))\n",
    "print(\"precision: {}\".format(metrics.recall_score(y_test_norm, LogRegTF2.predict(X_test_norm),average='macro') ))\n",
    "print(\"recall_score: {}\".format( metrics.recall_score(y_test_norm, LogRegTF2.predict(X_test_norm),average='macro') ))\n",
    "print(\"f1_score: {}\".format( metrics.f1_score(y_test_norm, LogRegTF2.predict(X_test_norm),average='macro') ))\n",
    "print(\"accuracy_score: {}\".format( metrics.accuracy_score(y_test_norm, LogRegTF2.predict(X_test_norm)) ))"
   ]
  },
  {
   "cell_type": "markdown",
   "metadata": {},
   "source": [
    "#####  Klasyfikator 2 --> SVC"
   ]
  },
  {
   "cell_type": "code",
   "execution_count": null,
   "metadata": {},
   "outputs": [],
   "source": [
    "from sklearn.svm import SVC\n",
    "from sklearn.linear_model import LogisticRegression\n",
    "from sklearn.ensemble import ExtraTreesClassifier\n",
    "\n",
    "svmTF = SVC(kernel = 'rbf', C =1000, gamma = 0.1,probability = True)\n",
    "svmTF.fit(X_train_res,y_train_res)\n",
    "\n"
   ]
  },
  {
   "cell_type": "code",
   "execution_count": null,
   "metadata": {},
   "outputs": [],
   "source": [
    "import seaborn as sn\n",
    "import pandas as pd\n",
    "import matplotlib.pyplot as plt\n",
    "from sklearn import metrics\n",
    "\n",
    "array =metrics.confusion_matrix(y_test_norm, svmTF.predict(X_test_norm))\n",
    "\n",
    "personality_types = np.unique(y_test_norm)\n",
    "\n",
    "df_cm = pd.DataFrame(array, index = [i for i in personality_types],\n",
    "                  columns = [i for i in personality_types])\n",
    "\n",
    "plt.figure(figsize = (7,7))\n",
    "heatmap(array, xlabel='True', xticklabels=personality_types, ylabel='Predicted', yticklabels=personality_types, cmap=\"plasma\")\n",
    "plt.show()"
   ]
  },
  {
   "cell_type": "code",
   "execution_count": null,
   "metadata": {},
   "outputs": [],
   "source": [
    "\n",
    "from sklearn import metrics\n",
    "\n",
    "print(\"R^2: {}\".format(metrics.precision_score(y_test_norm, svmTF.predict(X_test_norm),average='macro') ))\n",
    "print(\"precision: {}\".format(metrics.recall_score(y_test_norm, svmTF.predict(X_test_norm),average='macro') ))\n",
    "print(\"recall_score: {}\".format( metrics.recall_score(y_test_norm, svmTF.predict(X_test_norm),average='macro') ))\n",
    "print(\"f1_score: {}\".format( metrics.f1_score(y_test_norm, svmTF.predict(X_test_norm),average='macro') ))\n",
    "print(\"accuracy_score: {}\".format( metrics.accuracy_score(y_test_norm, svmTF.predict(X_test_norm)) ))"
   ]
  },
  {
   "cell_type": "code",
   "execution_count": null,
   "metadata": {},
   "outputs": [],
   "source": [
    "y_score = svmTF.decision_function(X_test_norm)\n",
    "from sklearn.metrics import average_precision_score\n",
    "average_precision = average_precision_score(y_test_norm, y_score)\n",
    "\n",
    "print('Average precision-recall score: {0:0.2f}'.format(\n",
    "      average_precision))\n",
    "\n",
    "from sklearn.metrics import precision_recall_curve\n",
    "from sklearn.metrics import plot_precision_recall_curve\n",
    "import matplotlib.pyplot as plt\n",
    "\n",
    "disp = plot_precision_recall_curve(svmTF, X_test_norm, y_test_norm)\n",
    "disp.ax_.set_title('2-class Precision-Recall curve: '\n",
    "                   'AP={0:0.2f}'.format(average_precision))"
   ]
  },
  {
   "cell_type": "markdown",
   "metadata": {},
   "source": [
    "#####  Klasyfikator 3 (najlepszy) --> Voting"
   ]
  },
  {
   "cell_type": "code",
   "execution_count": null,
   "metadata": {},
   "outputs": [],
   "source": [
    "from sklearn.svm import SVC\n",
    "from sklearn.linear_model import LogisticRegression\n",
    "from sklearn.ensemble import VotingClassifier\n",
    "from sklearn.ensemble import ExtraTreesClassifier\n",
    "from sklearn import metrics\n",
    "\n",
    "voting_clf_TF = VotingClassifier(\n",
    "    estimators=[('lr', svmTF), ('svc', LogRegTF2)], voting='soft')\n",
    "voting_clf_TF.fit(X_train_res, y_train_res)\n",
    "\n"
   ]
  },
  {
   "cell_type": "code",
   "execution_count": null,
   "metadata": {},
   "outputs": [],
   "source": [
    "\n",
    "from sklearn import metrics\n",
    "\n",
    "print(\"R^2: {}\".format(metrics.precision_score(y_test_norm, voting_clf_TF.predict(X_test_norm),average='macro') ))\n",
    "print(\"precision: {}\".format(metrics.recall_score(y_test_norm, voting_clf_TF.predict(X_test_norm),average='macro') ))\n",
    "print(\"recall_score: {}\".format( metrics.recall_score(y_test_norm, voting_clf_TF.predict(X_test_norm),average='macro') ))\n",
    "print(\"f1_score: {}\".format( metrics.f1_score(y_test_norm, voting_clf_TF.predict(X_test_norm),average='macro') ))\n",
    "print(\"accuracy_score: {}\".format( metrics.accuracy_score(y_test_norm, voting_clf_TF.predict(X_test_norm)) ))"
   ]
  },
  {
   "cell_type": "code",
   "execution_count": null,
   "metadata": {},
   "outputs": [],
   "source": [
    "\n",
    "from sklearn import metrics\n",
    "import seaborn as sn\n",
    "import pandas as pd\n",
    "import matplotlib.pyplot as plt\n",
    "array =metrics.confusion_matrix(y_test_norm, voting_clf_TF.predict(X_test))\n",
    "\n",
    "personality_types = np.unique(y_test_norm)\n",
    "\n",
    "df_cm = pd.DataFrame(array, index = [i for i in personality_types],\n",
    "                  columns = [i for i in personality_types])\n",
    "\n",
    "plt.figure(figsize = (7,7))\n",
    "heatmap(array, xlabel='True', xticklabels=personality_types, ylabel='Predicted', yticklabels=personality_types, cmap=\"plasma\")\n",
    "plt.show() "
   ]
  },
  {
   "cell_type": "code",
   "execution_count": null,
   "metadata": {},
   "outputs": [],
   "source": [
    "R2.append(metrics.precision_score(y_test_norm, voting_clf_TF.predict(X_test_norm),average='macro'))\n",
    "Precision.append(metrics.recall_score(y_test_norm, voting_clf_TF.predict(X_test_norm),average='macro'))\n",
    "Recall.append( metrics.recall_score(y_test_norm, voting_clf_TF.predict(X_test_norm),average='macro'))\n",
    "F1.append(metrics.f1_score(y_test_norm, voting_clf_TF.predict(X_test_norm),average='macro'))\n",
    "Accuracy.append(metrics.accuracy_score(y_test_norm, voting_clf_TF.predict(X_test_norm)))\n",
    "\n",
    "import pandas as pd\n",
    "d = {'precision_score': Precision, \n",
    "     'recall_score': Recall, \n",
    "     'f1_score': F1,\n",
    "     'accuracy_score' : Accuracy,\n",
    "     'R2_score': R2\n",
    "    }\n",
    "df_wyniki = pd.DataFrame(data=d)\n",
    "df_wyniki.insert(loc=0, column='Method', value=['IE','NS','TF'])\n",
    "df_wyniki"
   ]
  },
  {
   "cell_type": "markdown",
   "metadata": {},
   "source": [
    "### Klasyfikacja J-P z Resamplingiem"
   ]
  },
  {
   "cell_type": "code",
   "execution_count": null,
   "metadata": {},
   "outputs": [],
   "source": [
    "import pandas as pd\n",
    "import numpy as np\n",
    "from sklearn.feature_selection import SelectKBest\n",
    "from sklearn.feature_selection import f_classif\n",
    "from sklearn.feature_selection import chi2\n",
    "\n",
    "\n",
    "XX = df.drop(['type','posts','I-E','N-S','T-F','J-P','clean_posts'], axis=1).values\n",
    "yy = df['J-P'].values\n",
    "\n",
    "from sklearn.model_selection import train_test_split\n",
    "X_train,X_test_norm,y_train,y_test_norm=train_test_split(XX,yy,test_size = 0.1, random_state=42)\n",
    "\n",
    "sm = SMOTE()\n",
    "X_train_res, y_train_res = sm.fit_sample(X_train, y_train)"
   ]
  },
  {
   "cell_type": "markdown",
   "metadata": {},
   "source": [
    "#####  Klasyfikator 1 --> Extra Trees Classifier"
   ]
  },
  {
   "cell_type": "code",
   "execution_count": null,
   "metadata": {},
   "outputs": [],
   "source": [
    "from sklearn.svm import SVC\n",
    "from sklearn.linear_model import LogisticRegression\n",
    "from sklearn.ensemble import VotingClassifier\n",
    "from sklearn.ensemble import ExtraTreesClassifier\n",
    "from sklearn import metrics\n",
    "\n",
    "RNDJP = ExtraTreesClassifier(max_leaf_nodes = 128, n_estimators =1000)\n",
    "RNDJP.fit(X_train_res,y_train_res)\n",
    "\n",
    "import seaborn as sn\n",
    "import pandas as pd\n",
    "import matplotlib.pyplot as plt\n",
    "array =metrics.confusion_matrix(y_test_norm, RNDJP.predict(X_test_norm))\n",
    "\n",
    "personality_types = np.unique(y_test_norm)\n",
    "\n",
    "df_cm = pd.DataFrame(array, index = [i for i in personality_types],\n",
    "                  columns = [i for i in personality_types])\n",
    "\n",
    "plt.figure(figsize = (7,7))\n",
    "heatmap(array, xlabel='True', xticklabels=personality_types, ylabel='Predicted', yticklabels=personality_types, cmap=\"plasma\")\n",
    "plt.show()\n"
   ]
  },
  {
   "cell_type": "code",
   "execution_count": null,
   "metadata": {},
   "outputs": [],
   "source": [
    "\n",
    "from sklearn import metrics\n",
    "\n",
    "print(\"R^2: {}\".format(metrics.precision_score(y_test_norm, RNDJP.predict(X_test_norm),average='macro') ))\n",
    "print(\"precision: {}\".format(metrics.recall_score(y_test_norm, RNDJP.predict(X_test_norm),average='macro') ))\n",
    "print(\"recall_score: {}\".format( metrics.recall_score(y_test_norm, RNDJP.predict(X_test_norm),average='macro') ))\n",
    "print(\"f1_score: {}\".format( metrics.f1_score(y_test_norm, RNDJP.predict(X_test_norm),average='macro') ))\n",
    "print(\"accuracy_score: {}\".format( metrics.accuracy_score(y_test_norm, RNDJP.predict(X_test_norm)) ))"
   ]
  },
  {
   "cell_type": "markdown",
   "metadata": {},
   "source": [
    "#####  Klasyfikator 2 --> Regresja Logistyczna"
   ]
  },
  {
   "cell_type": "code",
   "execution_count": null,
   "metadata": {},
   "outputs": [],
   "source": [
    "from sklearn.svm import SVC\n",
    "from sklearn.linear_model import LogisticRegression\n",
    "from sklearn.ensemble import VotingClassifier\n",
    "from sklearn.ensemble import ExtraTreesClassifier\n",
    "from sklearn import metrics\n",
    "\n",
    "LogRegJP = LogisticRegression(penalty = 'l2', C =100)\n",
    "LogRegJP.fit(X_train_res,y_train_res)\n",
    "print(metrics.accuracy_score(y_test_norm,LogRegJP.predict(X_test_norm)))\n",
    "\n",
    "import seaborn as sn\n",
    "import pandas as pd\n",
    "import matplotlib.pyplot as plt\n",
    "array =metrics.confusion_matrix(y_test_norm, LogRegJP.predict(X_test_norm))\n",
    "\n",
    "personality_types = np.unique(y_test_norm)\n",
    "\n",
    "df_cm = pd.DataFrame(array, index = [i for i in personality_types],\n",
    "                  columns = [i for i in personality_types])\n",
    "\n",
    "plt.figure(figsize = (7,7))\n",
    "heatmap(array, xlabel='True', xticklabels=personality_types, ylabel='Predicted', yticklabels=personality_types, cmap=\"plasma\")\n",
    "plt.show()\n"
   ]
  },
  {
   "cell_type": "code",
   "execution_count": null,
   "metadata": {},
   "outputs": [],
   "source": [
    "\n",
    "from sklearn import metrics\n",
    "\n",
    "print(\"R^2: {}\".format(metrics.precision_score(y_test_norm, LogRegJP.predict(X_test_norm),average='macro') ))\n",
    "print(\"precision: {}\".format(metrics.recall_score(y_test_norm, LogRegJP.predict(X_test_norm),average='macro') ))\n",
    "print(\"recall_score: {}\".format( metrics.recall_score(y_test_norm, LogRegJP.predict(X_test_norm),average='macro') ))\n",
    "print(\"f1_score: {}\".format( metrics.f1_score(y_test_norm, LogRegJP.predict(X_test_norm),average='macro') ))\n",
    "print(\"accuracy_score: {}\".format( metrics.accuracy_score(y_test_norm, LogRegJP.predict(X_test_norm)) ))"
   ]
  },
  {
   "cell_type": "markdown",
   "metadata": {},
   "source": [
    "#####  Klasyfikator 3 --> SVC"
   ]
  },
  {
   "cell_type": "code",
   "execution_count": null,
   "metadata": {},
   "outputs": [],
   "source": [
    "from sklearn.svm import SVC\n",
    "from sklearn.linear_model import LogisticRegression\n",
    "from sklearn.ensemble import VotingClassifier\n",
    "from sklearn.ensemble import ExtraTreesClassifier\n",
    "from sklearn import metrics        \n",
    "svmJP = SVC(kernel = 'rbf', C =1, gamma =100,probability = True)\n",
    "svmJP.fit(X_train_res,y_train_res)\n",
    "\n",
    "print(metrics.accuracy_score(y_test_norm,svmJP.predict(X_test_norm)))\n",
    "\n",
    "import seaborn as sn\n",
    "import pandas as pd\n",
    "import matplotlib.pyplot as plt\n",
    "array =metrics.confusion_matrix(y_test_norm, svmJP.predict(X_test_norm))\n",
    "\n",
    "personality_types = np.unique(y_test_norm)\n",
    "\n",
    "df_cm = pd.DataFrame(array, index = [i for i in personality_types],\n",
    "                  columns = [i for i in personality_types])\n",
    "\n",
    "plt.figure(figsize = (7,7))\n",
    "heatmap(array, xlabel='True', xticklabels=personality_types, ylabel='Predicted', yticklabels=personality_types, cmap=\"plasma\")\n",
    "plt.show()"
   ]
  },
  {
   "cell_type": "code",
   "execution_count": null,
   "metadata": {},
   "outputs": [],
   "source": [
    "\n",
    "from sklearn import metrics\n",
    "\n",
    "print(\"R^2: {}\".format(metrics.precision_score(y_test_norm, svmJP.predict(X_test_norm),average='macro') ))\n",
    "print(\"precision: {}\".format(metrics.recall_score(y_test_norm, svmJP.predict(X_test_norm),average='macro') ))\n",
    "print(\"recall_score: {}\".format( metrics.recall_score(y_test_norm, svmJP.predict(X_test_norm),average='macro') ))\n",
    "print(\"f1_score: {}\".format( metrics.f1_score(y_test_norm, svmJP.predict(X_test_norm),average='macro') ))\n",
    "print(\"accuracy_score: {}\".format( metrics.accuracy_score(y_test_norm, svmJP.predict(X_test_norm)) ))"
   ]
  },
  {
   "cell_type": "code",
   "execution_count": null,
   "metadata": {},
   "outputs": [],
   "source": [
    "y_score = svmJP.decision_function(X_test_norm)\n",
    "from sklearn.metrics import average_precision_score\n",
    "average_precision = average_precision_score(y_test_norm, y_score)\n",
    "\n",
    "print('Average precision-recall score: {0:0.2f}'.format(\n",
    "      average_precision))\n",
    "\n",
    "from sklearn.metrics import precision_recall_curve\n",
    "from sklearn.metrics import plot_precision_recall_curve\n",
    "import matplotlib.pyplot as plt\n",
    "\n",
    "disp = plot_precision_recall_curve(svmJP, X_test_norm, y_test_norm)\n",
    "disp.ax_.set_title('2-class Precision-Recall curve: '\n",
    "                   'AP={0:0.2f}'.format(average_precision))"
   ]
  },
  {
   "cell_type": "markdown",
   "metadata": {},
   "source": [
    "#####  Klasyfikator 4 (Najlepszy) --> Voting"
   ]
  },
  {
   "cell_type": "code",
   "execution_count": null,
   "metadata": {},
   "outputs": [],
   "source": [
    "from sklearn.svm import SVC\n",
    "from sklearn.linear_model import LogisticRegression\n",
    "from sklearn.ensemble import VotingClassifier\n",
    "from sklearn.ensemble import ExtraTreesClassifier\n",
    "from sklearn import metrics\n",
    "\n",
    "voting_clf_JP = VotingClassifier(\n",
    "    estimators=[('lr', svmJP), ('svc', LogRegJP),('rnd', RNDJP)], voting='soft')\n",
    "voting_clf_JP.fit(X_train_res, y_train_res)\n",
    "\n"
   ]
  },
  {
   "cell_type": "code",
   "execution_count": null,
   "metadata": {},
   "outputs": [],
   "source": [
    "\n",
    "from sklearn import metrics\n",
    "\n",
    "print(\"R^2: {}\".format(metrics.precision_score(y_test_norm, voting_clf_JP.predict(X_test_norm),average='macro') ))\n",
    "print(\"precision: {}\".format(metrics.recall_score(y_test_norm, voting_clf_JP.predict(X_test_norm),average='macro') ))\n",
    "print(\"recall_score: {}\".format( metrics.recall_score(y_test_norm, voting_clf_JP.predict(X_test_norm),average='macro') ))\n",
    "print(\"f1_score: {}\".format( metrics.f1_score(y_test_norm, voting_clf_JP.predict(X_test_norm),average='macro') ))\n",
    "print(\"accuracy_score: {}\".format( metrics.accuracy_score(y_test_norm, voting_clf_JP.predict(X_test_norm)) ))"
   ]
  },
  {
   "cell_type": "code",
   "execution_count": null,
   "metadata": {},
   "outputs": [],
   "source": [
    "import seaborn as sn\n",
    "import pandas as pd\n",
    "import matplotlib.pyplot as plt\n",
    "from sklearn import metrics\n",
    "array =metrics.confusion_matrix(y_test_norm, voting_clf_JP.predict(X_test_norm))\n",
    "\n",
    "personality_types = np.unique(y_test_norm)\n",
    "\n",
    "df_cm = pd.DataFrame(array, index = [i for i in personality_types],\n",
    "                  columns = [i for i in personality_types])\n",
    "\n",
    "plt.figure(figsize = (7,7))\n",
    "heatmap(array, xlabel='True', xticklabels=personality_types, ylabel='Predicted', yticklabels=personality_types, cmap=\"plasma\")\n",
    "plt.show()\n"
   ]
  },
  {
   "cell_type": "code",
   "execution_count": null,
   "metadata": {},
   "outputs": [],
   "source": [
    "R2.append(metrics.precision_score(y_test_norm, voting_clf_JP.predict(X_test_norm),average='macro'))\n",
    "Precision.append(metrics.recall_score(y_test_norm, voting_clf_JP.predict(X_test_norm),average='macro'))\n",
    "Recall.append( metrics.recall_score(y_test_norm, voting_clf_JP.predict(X_test_norm),average='macro'))\n",
    "F1.append(metrics.f1_score(y_test_norm, voting_clf_JP.predict(X_test_norm),average='macro'))\n",
    "Accuracy.append(metrics.accuracy_score(y_test_norm, voting_clf_JP.predict(X_test_norm)))\n",
    "\n",
    "import pandas as pd\n",
    "d = {'precision_score': Precision, \n",
    "     'recall_score': Recall, \n",
    "     'f1_score': F1,\n",
    "     'accuracy_score' : Accuracy,\n",
    "     'R2_score': R2\n",
    "    }\n",
    "df_wyniki = pd.DataFrame(data=d)\n",
    "df_wyniki.insert(loc=0, column='Method', value=['IE','NS','TF','JP'])\n",
    "df_wyniki"
   ]
  },
  {
   "cell_type": "code",
   "execution_count": null,
   "metadata": {},
   "outputs": [],
   "source": [
    "def Wyniki(miara):\n",
    "    from matplotlib import cm\n",
    "  \n",
    "    print( df_wyniki[miara].values)\n",
    "    cnt_srs = df_wyniki[miara]\n",
    "    #eee = df_wyniki.Method.value_counts()\n",
    "    viridis = cm.get_cmap('plasma', 12)\n",
    "    colors = viridis(np.flip(np.linspace(0, 1, 4)))\n",
    "    plt.figure(figsize=(12,4))\n",
    "    sns.barplot(df_wyniki.Method, cnt_srs, alpha=0.8,palette=colors)\n",
    "    plt.title(miara)\n",
    "    plt.ylabel('Wartosci', fontsize=12)\n",
    "    plt.xlabel('Cechy', fontsize=12)\n",
    "    plt.show()\n",
    "\n"
   ]
  },
  {
   "cell_type": "markdown",
   "metadata": {},
   "source": [
    "### Podsumowanie"
   ]
  },
  {
   "cell_type": "markdown",
   "metadata": {},
   "source": [
    "    nie udało się osiągnąć dobrego stopnia Klasyfikacji dla poszczególnych Typów osobowości MBTI.\n",
    "    Klasyfikator dla poszczególnych cech osobowości również nie osiagnęly istotnego stopnia poprawności."
   ]
  },
  {
   "cell_type": "code",
   "execution_count": null,
   "metadata": {},
   "outputs": [],
   "source": [
    "df_wyniki"
   ]
  },
  {
   "cell_type": "code",
   "execution_count": null,
   "metadata": {},
   "outputs": [],
   "source": [
    "\n",
    "Wyniki('R2_score')\n",
    "Wyniki('accuracy_score')\n",
    "Wyniki('f1_score')\n",
    "Wyniki('recall_score')\n",
    "Wyniki('precision_score')\n",
    "\n",
    "df_wyniki    \n",
    "    "
   ]
  },
  {
   "cell_type": "markdown",
   "metadata": {},
   "source": [
    "    Możliwe jest stworzenie Modelu niemal w każdej z Cech osobowości, który przekroczy poprawność 70% a nawet 90%, lecz przy jednoczesnym poświęceniu Precision i Recall. W takich modelach przewidywany przydział do mniej licznej klasy jest żaden, i to z tego wynika duża poprawność"
   ]
  },
  {
   "cell_type": "markdown",
   "metadata": {},
   "source": [
    "    Stworzone Modele uwzględniają najlepszy możliwy dla danej Cechy Recall - Precision Tradeoff, przy jednoczesnym            maksymalizowaniu poprawności"
   ]
  },
  {
   "cell_type": "markdown",
   "metadata": {},
   "source": [
    "    Możliwą przyczyną tego jest niezbalansowany i nie oddający faktycznego występowania poszczególnych typów osobowości \n",
    "    zbiór Postów\n",
    "\n",
    "    Kolejną przyczyną moze być strukturalne podobieństwo ścian tekstu, \n",
    "    zmniejszające efektywność TFIDF oraz manualnie wybranych cech w predykcji\n",
    "    \n",
    "    Zastosowanie nieefektywnych klasyfikatorów choć mało prawdopodobne też można obwiniać o słabe wyniki. \n",
    "    Zbyt mała ilość danych również mogła wpłynąć na efektywność\n",
    "\n",
    "    Na końcu obwiniana może być sama skala MBTI, która choć szeroko stosowana w praktyce, \n",
    "    budzi duże kontrowersje u Psychologów\n",
    "    Wykazują oni brak korelacji z oryginalnymi Cechami osobowości"
   ]
  },
  {
   "cell_type": "markdown",
   "metadata": {},
   "source": [
    "    Jak wskazuje David Pittinger (1993), możliwe jest że MBTI w rzeczywistosci nie mierzy cech które \n",
    "    mogą być eksponowane w zachowaniu\n",
    "    \n",
    "    1. Typy to tylko Stereotypy - nie opisują osobowości informatywnie.\n",
    "    2. Załozenie wrodzoności szufladkuje ludzi, uniemożliwiając wybor preferencji.\n",
    "    3. Deskrypcje tylko wydają się psychologicznie akuratne.\n",
    "    4. Dane z MBTI nie mają rozkłądu bimodalnego co przewidywane byłoby, jeśli osobowości miałyby idealnie pasować.\n",
    "    5. Nie można polegać na założeniach MBTI szczególnie wrodzoności.\n",
    "    6. Nie ma dowodu że MBTI może pomóc przewidywać karierę zawodową (w przeciwieństwie do innych miar osobowości jak OCEAN).\n",
    "    \n",
    "    \n",
    "    \n"
   ]
  },
  {
   "cell_type": "code",
   "execution_count": null,
   "metadata": {},
   "outputs": [],
   "source": []
  },
  {
   "cell_type": "code",
   "execution_count": null,
   "metadata": {},
   "outputs": [],
   "source": []
  }
 ],
 "metadata": {
  "kernelspec": {
   "display_name": "Python 3",
   "language": "python",
   "name": "python3"
  },
  "language_info": {
   "codemirror_mode": {
    "name": "ipython",
    "version": 3
   },
   "file_extension": ".py",
   "mimetype": "text/x-python",
   "name": "python",
   "nbconvert_exporter": "python",
   "pygments_lexer": "ipython3",
   "version": "3.6.4"
  }
 },
 "nbformat": 4,
 "nbformat_minor": 2
}
